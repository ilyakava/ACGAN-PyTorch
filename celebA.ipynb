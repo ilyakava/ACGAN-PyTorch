{
 "cells": [
  {
   "cell_type": "markdown",
   "metadata": {},
   "source": [
    "### Dataloader"
   ]
  },
  {
   "cell_type": "code",
   "execution_count": 1,
   "metadata": {},
   "outputs": [],
   "source": [
    "import torch\n",
    "from torchvision.datasets import ImageFolder\n",
    "from torchvision import transforms\n",
    "\n",
    "from data import MyLiteDataLoader"
   ]
  },
  {
   "cell_type": "code",
   "execution_count": 2,
   "metadata": {},
   "outputs": [],
   "source": [
    "%matplotlib ipympl\n",
    "\n",
    "import matplotlib.pyplot as plt\n",
    "import matplotlib.image as mpimg\n",
    "import ipympl"
   ]
  },
  {
   "cell_type": "code",
   "execution_count": 3,
   "metadata": {},
   "outputs": [],
   "source": [
    "dataroot = '/scratch0/ilya/locDoc/data/celeba_partitions/close'\n",
    "image_size = 32\n",
    "batch_size = 128\n",
    "dataset = ImageFolder(root=dataroot,\n",
    "                           transform=transforms.Compose([\n",
    "#                               transforms.Resize(image_size),\n",
    "                               transforms.CenterCrop(image_size),\n",
    "                               transforms.ToTensor(),\n",
    "                               transforms.Normalize((0.5, 0.5, 0.5), (0.5, 0.5, 0.5)),\n",
    "                           ]))\n",
    "dataloader = torch.utils.data.DataLoader(dataset, batch_size=batch_size,\n",
    "                                         shuffle=True, num_workers=2)\n",
    "train_loader = MyLiteDataLoader(dataset, batch_size)"
   ]
  },
  {
   "cell_type": "code",
   "execution_count": 4,
   "metadata": {},
   "outputs": [],
   "source": [
    "train_loader = MyLiteDataLoader(dataset, batch_size)"
   ]
  },
  {
   "cell_type": "code",
   "execution_count": 12,
   "metadata": {},
   "outputs": [],
   "source": [
    "x,y = train_loader.next()"
   ]
  },
  {
   "cell_type": "markdown",
   "metadata": {},
   "source": [
    "### Find attrs to split by on the original dataset"
   ]
  },
  {
   "cell_type": "code",
   "execution_count": 5,
   "metadata": {},
   "outputs": [],
   "source": [
    "import pandas as pd\n",
    "import numpy as np"
   ]
  },
  {
   "cell_type": "code",
   "execution_count": 6,
   "metadata": {},
   "outputs": [],
   "source": [
    "from scipy.stats import norm"
   ]
  },
  {
   "cell_type": "code",
   "execution_count": 7,
   "metadata": {},
   "outputs": [],
   "source": [
    "import imageio\n",
    "import os"
   ]
  },
  {
   "cell_type": "code",
   "execution_count": 8,
   "metadata": {},
   "outputs": [],
   "source": [
    "attr_fn = '/scratch0/ilya/locDoc/data/celeba/list_attr_celeba_kaggle.csv'\n",
    "df = pd.read_csv(attr_fn)"
   ]
  },
  {
   "cell_type": "code",
   "execution_count": 47,
   "metadata": {},
   "outputs": [
    {
     "data": {
      "text/plain": [
       "Index(['image_id', '5_o_Clock_Shadow', 'Arched_Eyebrows', 'Attractive',\n",
       "       'Bags_Under_Eyes', 'Bald', 'Bangs', 'Big_Lips', 'Big_Nose',\n",
       "       'Black_Hair', 'Blond_Hair', 'Blurry', 'Brown_Hair', 'Bushy_Eyebrows',\n",
       "       'Chubby', 'Double_Chin', 'Eyeglasses', 'Goatee', 'Gray_Hair',\n",
       "       'Heavy_Makeup', 'High_Cheekbones', 'Male', 'Mouth_Slightly_Open',\n",
       "       'Mustache', 'Narrow_Eyes', 'No_Beard', 'Oval_Face', 'Pale_Skin',\n",
       "       'Pointy_Nose', 'Receding_Hairline', 'Rosy_Cheeks', 'Sideburns',\n",
       "       'Smiling', 'Straight_Hair', 'Wavy_Hair', 'Wearing_Earrings',\n",
       "       'Wearing_Hat', 'Wearing_Lipstick', 'Wearing_Necklace',\n",
       "       'Wearing_Necktie', 'Young'],\n",
       "      dtype='object')"
      ]
     },
     "execution_count": 47,
     "metadata": {},
     "output_type": "execute_result"
    }
   ],
   "source": [
    "df.columns"
   ]
  },
  {
   "cell_type": "code",
   "execution_count": 48,
   "metadata": {},
   "outputs": [
    {
     "data": {
      "text/plain": [
       "(202599, 41)"
      ]
     },
     "execution_count": 48,
     "metadata": {},
     "output_type": "execute_result"
    }
   ],
   "source": [
    "df.shape"
   ]
  },
  {
   "cell_type": "code",
   "execution_count": 9,
   "metadata": {},
   "outputs": [],
   "source": [
    "def split_df(adf, split_attr=None):\n",
    "    if not split_attr:\n",
    "        ntrue = [adf[adf[c] == 1].shape[0] for c in adf.columns]\n",
    "        split_idx = np.argmin(np.abs(np.array(ntrue) - adf.shape[0]/2))\n",
    "        split_attr = adf.columns[split_idx]\n",
    "    t = adf[adf[split_attr] == 1]\n",
    "    f = adf[adf[split_attr] == -1]\n",
    "    print('Splitting on %s, %i/%i t/f ' % (split_attr, t.shape[0], f.shape[0]))\n",
    "    return t,f"
   ]
  },
  {
   "cell_type": "markdown",
   "metadata": {},
   "source": [
    "### Split by Attrs and orientation on original dataset"
   ]
  },
  {
   "cell_type": "code",
   "execution_count": 10,
   "metadata": {},
   "outputs": [],
   "source": [
    "landmark_fn = '/scratch0/ilya/locDoc/data/celeba/list_landmarks_align_celeba_kaggle.csv'\n",
    "df2 = pd.read_csv(landmark_fn)"
   ]
  },
  {
   "cell_type": "code",
   "execution_count": 11,
   "metadata": {},
   "outputs": [
    {
     "data": {
      "text/plain": [
       "Index(['image_id', 'lefteye_x', 'lefteye_y', 'righteye_x', 'righteye_y',\n",
       "       'nose_x', 'nose_y', 'leftmouth_x', 'leftmouth_y', 'rightmouth_x',\n",
       "       'rightmouth_y'],\n",
       "      dtype='object')"
      ]
     },
     "execution_count": 11,
     "metadata": {},
     "output_type": "execute_result"
    }
   ],
   "source": [
    "df2.columns"
   ]
  },
  {
   "cell_type": "code",
   "execution_count": 12,
   "metadata": {},
   "outputs": [],
   "source": [
    "nose_to_left_eye = df2['lefteye_x'] - df2['nose_x']\n",
    "eye_distance = df2['lefteye_x'] - df2['righteye_x']\n",
    "rotation = nose_to_left_eye / eye_distance"
   ]
  },
  {
   "cell_type": "code",
   "execution_count": 13,
   "metadata": {},
   "outputs": [],
   "source": [
    "mu, std = norm.fit(rotation)"
   ]
  },
  {
   "cell_type": "code",
   "execution_count": 14,
   "metadata": {},
   "outputs": [
    {
     "data": {
      "application/vnd.jupyter.widget-view+json": {
       "model_id": "3002424f19894f5c8efa744d56d33ff3",
       "version_major": 2,
       "version_minor": 0
      },
      "text/plain": [
       "FigureCanvasNbAgg()"
      ]
     },
     "metadata": {},
     "output_type": "display_data"
    },
    {
     "data": {
      "text/plain": [
       "Text(0.5, 1.0, 'Fit results: mu = 0.49,  std = 0.21')"
      ]
     },
     "execution_count": 14,
     "metadata": {},
     "output_type": "execute_result"
    }
   ],
   "source": [
    "plt.figure()\n",
    "plt.hist(rotation, density=True, bins = 100);\n",
    "xmin, xmax = plt.xlim()\n",
    "x = np.linspace(xmin, xmax, 100)\n",
    "p = norm.pdf(x, mu, std)\n",
    "plt.plot(x, p, 'k', linewidth=2)\n",
    "title = \"Fit results: mu = %.2f,  std = %.2f\" % (mu, std)\n",
    "plt.title(title)"
   ]
  },
  {
   "cell_type": "code",
   "execution_count": 144,
   "metadata": {},
   "outputs": [
    {
     "data": {
      "text/plain": [
       "((107189,), (46643,), (48767,))"
      ]
     },
     "execution_count": 144,
     "metadata": {},
     "output_type": "execute_result"
    }
   ],
   "source": [
    "med = rotation.median()\n",
    "r1 = rotation[rotation > (med-std/2)]\n",
    "rs = r1[r1 < (med+std/2)]\n",
    "rl = rotation[rotation > (med+std/2)]\n",
    "rr = rotation[rotation < (med-std/2)]\n",
    "\n",
    "rs.shape, rl.shape, rr.shape"
   ]
  },
  {
   "cell_type": "code",
   "execution_count": 184,
   "metadata": {},
   "outputs": [],
   "source": [
    "df['rotation'] = rotation\n",
    "df2['rotation'] = rotation"
   ]
  },
  {
   "cell_type": "markdown",
   "metadata": {},
   "source": [
    "### Split halfway"
   ]
  },
  {
   "cell_type": "code",
   "execution_count": 284,
   "metadata": {},
   "outputs": [
    {
     "data": {
      "text/plain": [
       "(107189, 42)"
      ]
     },
     "execution_count": 284,
     "metadata": {},
     "output_type": "execute_result"
    }
   ],
   "source": [
    "center = df[ df['rotation'] > (med-std/2) ]\n",
    "center = center[center['rotation'] < (med+std/2)]\n",
    "center.shape"
   ]
  },
  {
   "cell_type": "code",
   "execution_count": 149,
   "metadata": {},
   "outputs": [],
   "source": [
    "left = df[ df['rotation'] > (med+std/2) ]\n",
    "right = df[ df['rotation'] < (med-std/2) ]"
   ]
  },
  {
   "cell_type": "code",
   "execution_count": 272,
   "metadata": {},
   "outputs": [],
   "source": [
    "not_center = df[ (df['rotation'] > (med+std/2)) | (df['rotation'] < (med-std/2)) ]"
   ]
  },
  {
   "cell_type": "code",
   "execution_count": 288,
   "metadata": {},
   "outputs": [
    {
     "data": {
      "text/plain": [
       "39494"
      ]
     },
     "execution_count": 288,
     "metadata": {},
     "output_type": "execute_result"
    }
   ],
   "source": [
    "not_center.shape[0]"
   ]
  },
  {
   "cell_type": "code",
   "execution_count": 273,
   "metadata": {},
   "outputs": [
    {
     "ename": "AttributeError",
     "evalue": "'int' object has no attribute 'shape'",
     "output_type": "error",
     "traceback": [
      "\u001b[0;31m---------------------------------------------------------------------------\u001b[0m",
      "\u001b[0;31mAttributeError\u001b[0m                            Traceback (most recent call last)",
      "\u001b[0;32m<ipython-input-273-4e70a01f929e>\u001b[0m in \u001b[0;36m<module>\u001b[0;34m\u001b[0m\n\u001b[0;32m----> 1\u001b[0;31m \u001b[0mnot_center\u001b[0m\u001b[0;34m.\u001b[0m\u001b[0mshape\u001b[0m\u001b[0;34m[\u001b[0m\u001b[0;36m0\u001b[0m\u001b[0;34m]\u001b[0m\u001b[0;34m,\u001b[0m \u001b[0mleft\u001b[0m\u001b[0;34m.\u001b[0m\u001b[0mshape\u001b[0m\u001b[0;34m[\u001b[0m\u001b[0;36m0\u001b[0m\u001b[0;34m]\u001b[0m\u001b[0;34m+\u001b[0m\u001b[0mright\u001b[0m\u001b[0;34m.\u001b[0m\u001b[0mshape\u001b[0m\u001b[0;34m[\u001b[0m\u001b[0;36m0\u001b[0m\u001b[0;34m]\u001b[0m\u001b[0;34m\u001b[0m\u001b[0;34m\u001b[0m\u001b[0m\n\u001b[0m",
      "\u001b[0;31mAttributeError\u001b[0m: 'int' object has no attribute 'shape'"
     ]
    }
   ],
   "source": [
    "not_center.shape[0], left.shape[0]+right.shape[0]"
   ]
  },
  {
   "cell_type": "code",
   "execution_count": 278,
   "metadata": {},
   "outputs": [
    {
     "name": "stdout",
     "output_type": "stream",
     "text": [
      "Splitting on Male, 66224/90216 t/f \n"
     ]
    }
   ],
   "source": [
    "center_1, center_0 =  split_df(center, 'Male')"
   ]
  },
  {
   "cell_type": "code",
   "execution_count": 279,
   "metadata": {},
   "outputs": [
    {
     "name": "stdout",
     "output_type": "stream",
     "text": [
      "Splitting on Male, 18210/27949 t/f \n"
     ]
    }
   ],
   "source": [
    "not_center_1, not_center_0 =  split_df(not_center, 'Male')"
   ]
  },
  {
   "cell_type": "code",
   "execution_count": 280,
   "metadata": {},
   "outputs": [
    {
     "name": "stdout",
     "output_type": "stream",
     "text": [
      "Splitting on Mouth_Slightly_Open, 28096/38128 t/f \n"
     ]
    }
   ],
   "source": [
    "center_11, center_10 =  split_df(center_1, 'Mouth_Slightly_Open')"
   ]
  },
  {
   "cell_type": "code",
   "execution_count": 281,
   "metadata": {},
   "outputs": [
    {
     "name": "stdout",
     "output_type": "stream",
     "text": [
      "Splitting on Mouth_Slightly_Open, 47947/42269 t/f \n"
     ]
    }
   ],
   "source": [
    "center_01, center_00 =  split_df(center_0, 'Mouth_Slightly_Open')"
   ]
  },
  {
   "cell_type": "code",
   "execution_count": 282,
   "metadata": {},
   "outputs": [
    {
     "name": "stdout",
     "output_type": "stream",
     "text": [
      "Splitting on Mouth_Slightly_Open, 7750/10460 t/f \n"
     ]
    }
   ],
   "source": [
    "not_center_11, not_center_10 =  split_df(not_center_1, 'Mouth_Slightly_Open')"
   ]
  },
  {
   "cell_type": "code",
   "execution_count": 283,
   "metadata": {},
   "outputs": [
    {
     "name": "stdout",
     "output_type": "stream",
     "text": [
      "Splitting on Mouth_Slightly_Open, 14149/13800 t/f \n"
     ]
    }
   ],
   "source": [
    "not_center_01, not_center_00 =  split_df(not_center_0, 'Mouth_Slightly_Open')"
   ]
  },
  {
   "cell_type": "markdown",
   "metadata": {},
   "source": [
    "### Split by visually distinctive"
   ]
  },
  {
   "cell_type": "code",
   "execution_count": 317,
   "metadata": {},
   "outputs": [],
   "source": [
    "df3 = pd.merge(df, df2, on='image_id')"
   ]
  },
  {
   "cell_type": "code",
   "execution_count": 321,
   "metadata": {},
   "outputs": [],
   "source": [
    "df = df3\n",
    "df['rotation'] = rotation"
   ]
  },
  {
   "cell_type": "code",
   "execution_count": 322,
   "metadata": {},
   "outputs": [],
   "source": [
    "not_center = df[ (df['rotation'] > (med+std*1.1)) | (df['rotation'] < (med-std*1.1)) ]"
   ]
  },
  {
   "cell_type": "code",
   "execution_count": 323,
   "metadata": {},
   "outputs": [],
   "source": [
    "center = df[ df['rotation'] > (med-std*1.1) ]\n",
    "center = center[center['rotation'] < (med+std*1.1)]"
   ]
  },
  {
   "cell_type": "code",
   "execution_count": 324,
   "metadata": {},
   "outputs": [
    {
     "data": {
      "text/plain": [
       "(163105, 39494)"
      ]
     },
     "execution_count": 324,
     "metadata": {},
     "output_type": "execute_result"
    }
   ],
   "source": [
    "center.shape[0],  not_center.shape[0]"
   ]
  },
  {
   "cell_type": "code",
   "execution_count": 348,
   "metadata": {},
   "outputs": [
    {
     "name": "stdout",
     "output_type": "stream",
     "text": [
      "Splitting on Eyeglasses, 10812/152293 t/f \n"
     ]
    }
   ],
   "source": [
    "center_1, center_0 =  split_df(center, 'Eyeglasses')"
   ]
  },
  {
   "cell_type": "code",
   "execution_count": 326,
   "metadata": {},
   "outputs": [
    {
     "name": "stdout",
     "output_type": "stream",
     "text": [
      "Splitting on Male, 15674/23820 t/f \n"
     ]
    }
   ],
   "source": [
    "not_center_1, not_center_0 =  split_df(not_center, 'Male')"
   ]
  },
  {
   "cell_type": "code",
   "execution_count": 349,
   "metadata": {},
   "outputs": [
    {
     "name": "stdout",
     "output_type": "stream",
     "text": [
      "Splitting on Male, 60146/92147 t/f \n"
     ]
    }
   ],
   "source": [
    "center_01, center_00 =  split_df(center_0, 'Male')"
   ]
  },
  {
   "cell_type": "code",
   "execution_count": 355,
   "metadata": {},
   "outputs": [
    {
     "name": "stdout",
     "output_type": "stream",
     "text": [
      "Splitting on Mouth_Slightly_Open, 48731/43416 t/f \n"
     ]
    }
   ],
   "source": [
    "center_100, center_000 =  split_df(center_00, 'Mouth_Slightly_Open')"
   ]
  },
  {
   "cell_type": "code",
   "execution_count": 356,
   "metadata": {},
   "outputs": [
    {
     "name": "stdout",
     "output_type": "stream",
     "text": [
      "Splitting on Mouth_Slightly_Open, 25342/34804 t/f \n"
     ]
    }
   ],
   "source": [
    "center_101, center_001 =  split_df(center_01, 'Mouth_Slightly_Open')"
   ]
  },
  {
   "cell_type": "code",
   "execution_count": 374,
   "metadata": {},
   "outputs": [
    {
     "name": "stdout",
     "output_type": "stream",
     "text": [
      "[48731, 43416, 25342, 34804, 10812, 15674, 23820]\n"
     ]
    }
   ],
   "source": [
    "classes = [center_100, center_000, center_101, center_001, center_1, not_center_1, not_center_0]\n",
    "class_ids = ['0_center_female_openmouth', '1_center_female_closedmouth', '2_center_male_openmouth',\n",
    "             '3_center_male_closedmouth', '4_center_eyeglasses', '5_profile_male', '6_profile_female']\n",
    "print([len(c) for c in classes])"
   ]
  },
  {
   "cell_type": "markdown",
   "metadata": {},
   "source": [
    "### Split into 5 visually distinctive classes"
   ]
  },
  {
   "cell_type": "code",
   "execution_count": 386,
   "metadata": {},
   "outputs": [
    {
     "data": {
      "text/plain": [
       "(163105, 54)"
      ]
     },
     "execution_count": 386,
     "metadata": {},
     "output_type": "execute_result"
    }
   ],
   "source": [
    "center.shape"
   ]
  },
  {
   "cell_type": "code",
   "execution_count": 393,
   "metadata": {},
   "outputs": [
    {
     "name": "stdout",
     "output_type": "stream",
     "text": [
      "Splitting on Male, 68760/94345 t/f \n",
      "Splitting on Mouth_Slightly_Open, 49994/44351 t/f \n",
      "Splitting on Mouth_Slightly_Open, 29146/39614 t/f \n"
     ]
    }
   ],
   "source": [
    "center_1, center_0 =  split_df(center, 'Male')\n",
    "center_10, center_00 =  split_df(center_0, 'Mouth_Slightly_Open')\n",
    "center_11, center_01 =  split_df(center_1, 'Mouth_Slightly_Open')"
   ]
  },
  {
   "cell_type": "code",
   "execution_count": 394,
   "metadata": {},
   "outputs": [
    {
     "name": "stdout",
     "output_type": "stream",
     "text": [
      "[49994, 44351, 29146, 39614, 39494]\n",
      "202599\n",
      "(202599, 54)\n"
     ]
    },
    {
     "data": {
      "text/plain": [
       "202599"
      ]
     },
     "execution_count": 394,
     "metadata": {},
     "output_type": "execute_result"
    }
   ],
   "source": [
    "classes = [center_10, center_00, center_11, center_01, not_center]\n",
    "class_ids = ['0_center_female_openmouth', '1_center_female_closedmouth', '2_center_male_openmouth',\n",
    "             '3_center_male_closedmouth', '5_profile']\n",
    "print([len(c) for c in classes])\n",
    "print(sum([len(c) for c in classes]))\n",
    "print(df.shape)\n",
    "len(not_center) + len(center)"
   ]
  },
  {
   "cell_type": "markdown",
   "metadata": {},
   "source": [
    "### Split M/F"
   ]
  },
  {
   "cell_type": "code",
   "execution_count": 396,
   "metadata": {},
   "outputs": [
    {
     "name": "stdout",
     "output_type": "stream",
     "text": [
      "Splitting on Male, 84434/118165 t/f \n"
     ]
    }
   ],
   "source": [
    "male, femal =  split_df(df, 'Male')"
   ]
  },
  {
   "cell_type": "code",
   "execution_count": 397,
   "metadata": {},
   "outputs": [
    {
     "name": "stdout",
     "output_type": "stream",
     "text": [
      "[84434, 118165]\n",
      "202599\n",
      "(202599, 54)\n"
     ]
    }
   ],
   "source": [
    "classes = [male, femal]\n",
    "class_ids = ['0_male', '1_female']\n",
    "print([len(c) for c in classes])\n",
    "print(sum([len(c) for c in classes]))\n",
    "print(df.shape)"
   ]
  },
  {
   "cell_type": "markdown",
   "metadata": {},
   "source": [
    "### split left, center, right"
   ]
  },
  {
   "cell_type": "code",
   "execution_count": null,
   "metadata": {},
   "outputs": [],
   "source": [
    "left = df[ df['rotation'] > (med+std/2) ]\n",
    "right = df[ df['rotation'] < (med-std/2) ]\n",
    "center = df[ df['rotation'] > (med-std/2) ]\n",
    "center = center[center['rotation'] < (med+std/2)]"
   ]
  },
  {
   "cell_type": "code",
   "execution_count": null,
   "metadata": {},
   "outputs": [],
   "source": [
    "classes = [left, right, center]\n",
    "class_ids = ['0_left', '1_right', '2_center']\n",
    "print([len(c) for c in classes])\n",
    "print(sum([len(c) for c in classes]))\n",
    "print(df.shape)\n",
    "len(not_center) + len(center)"
   ]
  },
  {
   "cell_type": "markdown",
   "metadata": {},
   "source": [
    "### Get crop right"
   ]
  },
  {
   "cell_type": "code",
   "execution_count": 223,
   "metadata": {},
   "outputs": [],
   "source": [
    "import torch\n",
    "import torchvision.utils as vutils"
   ]
  },
  {
   "cell_type": "code",
   "execution_count": 241,
   "metadata": {},
   "outputs": [],
   "source": [
    "def rule_of_thirds_crop(row):\n",
    "    eye_height = (row['lefteye_y'] + row['righteye_y']) // 2\n",
    "    mouth_height = (row['leftmouth_y'] + row['rightmouth_y']) // 2\n",
    "    nose_height = row['nose_y']\n",
    "    # origin is top left\n",
    "    thirds_height = mouth_height - eye_height\n",
    "    is_rotated = (row['rotation'] > (med+std/2)) or (row['rotation'] < (med-std/2))\n",
    "    # if face is rotated, then thirds dst should be height\n",
    "    # when face is not rotated, then thirds dst can be eye width (in case head is tilted)\n",
    "    if is_rotated:\n",
    "        thirds_dst = thirds_height\n",
    "    else:\n",
    "        thirds_dst = row['righteye_x'] - row['lefteye_x']\n",
    "    top = eye_height - thirds_dst\n",
    "    bottom = nose_height + thirds_dst\n",
    "\n",
    "\n",
    "\n",
    "    if True: # is_rotated\n",
    "        # make up for rotation\n",
    "        x = row['rotation']\n",
    "        right_of_nose_prop = (np.cos(np.pi*(x + 1/2)/2) + 1) / 2.0\n",
    "        left_of_nose_prop = 1 - right_of_nose_prop\n",
    "\n",
    "        right = int((2*thirds_dst) * right_of_nose_prop + row['nose_x'])\n",
    "        left = int(row['nose_x'] - ((2*thirds_dst) * left_of_nose_prop))\n",
    "    # else:\n",
    "    #     left = landmarks[4] - thirds_height\n",
    "    #     right = landmarks[4] + thirds_height\n",
    "    img = imageio.imread(os.path.join(src_folder, row['image_id']))\n",
    "    [h,w,c] = img.shape\n",
    "    right = min(right, h)\n",
    "    left = max(left, 0)\n",
    "    return img[top:bottom, left:right]"
   ]
  },
  {
   "cell_type": "code",
   "execution_count": 372,
   "metadata": {},
   "outputs": [],
   "source": [
    "bs = 64\n",
    "batch = np.zeros((bs,200,200,3))\n",
    "src_folder = '/scratch0/ilya/locDoc/data/celeba/img_align_celeba'\n",
    "i = 0\n",
    "for index, row in classes[6].iterrows():\n",
    "#     if len(not_center[not_center['image_id'] == row['image_id']]):\n",
    "    crop = rule_of_thirds_crop(row) / 255.0\n",
    "    [h,w,c] = crop.shape\n",
    "    padded = np.pad(crop, ((int(np.floor((200-h)/2.0)),int(np.ceil((200-h)/2.0))),(int(np.floor((200-w)/2.0)),int(np.ceil((200-w)/2.0))),(0,0)), mode='constant')\n",
    "\n",
    "    batch[i] = padded\n",
    "    i += 1\n",
    "    if i == 63:\n",
    "        break"
   ]
  },
  {
   "cell_type": "code",
   "execution_count": 373,
   "metadata": {},
   "outputs": [
    {
     "data": {
      "application/vnd.jupyter.widget-view+json": {
       "model_id": "8b7d5a1d944a4be9b95ecd42709084eb",
       "version_major": 2,
       "version_minor": 0
      },
      "text/plain": [
       "FigureCanvasNbAgg()"
      ]
     },
     "metadata": {},
     "output_type": "display_data"
    },
    {
     "data": {
      "text/plain": [
       "<matplotlib.image.AxesImage at 0x7f4bc3d93eb8>"
      ]
     },
     "execution_count": 373,
     "metadata": {},
     "output_type": "execute_result"
    }
   ],
   "source": [
    "plt.figure()\n",
    "grid = vutils.make_grid(torch.Tensor(np.moveaxis(batch,-1,1)), nrow=8, padding=0, normalize=False)\n",
    "plt.imshow(np.moveaxis(grid.data.cpu().numpy(),0,-1))"
   ]
  },
  {
   "cell_type": "code",
   "execution_count": 343,
   "metadata": {},
   "outputs": [],
   "source": [
    "plt.close('all')"
   ]
  },
  {
   "cell_type": "code",
   "execution_count": 375,
   "metadata": {},
   "outputs": [
    {
     "data": {
      "text/plain": [
       "202599"
      ]
     },
     "execution_count": 375,
     "metadata": {},
     "output_type": "execute_result"
    }
   ],
   "source": [
    "len(df)"
   ]
  },
  {
   "cell_type": "code",
   "execution_count": 382,
   "metadata": {},
   "outputs": [],
   "source": [
    "from GAN_training.utils import mkdirp\n",
    "from tqdm import tqdm_notebook"
   ]
  },
  {
   "cell_type": "markdown",
   "metadata": {},
   "source": [
    "### Save images now"
   ]
  },
  {
   "cell_type": "code",
   "execution_count": 398,
   "metadata": {},
   "outputs": [
    {
     "data": {
      "application/vnd.jupyter.widget-view+json": {
       "model_id": "1fa4a225b2d14276b295e56703bd1f24",
       "version_major": 2,
       "version_minor": 0
      },
      "text/plain": [
       "HBox(children=(IntProgress(value=0, max=202599), HTML(value='')))"
      ]
     },
     "metadata": {},
     "output_type": "display_data"
    }
   ],
   "source": [
    "pbar = tqdm_notebook(total=len(df))\n",
    "for ci, c in enumerate(classes):\n",
    "    mkdirp(os.path.join('/scratch0/ilya/locDoc/data/celeba_MFclass', class_ids[ci]))\n",
    "    for _, row in c.iterrows():\n",
    "        pbar.update(1)\n",
    "        crop = rule_of_thirds_crop(row)\n",
    "        imageio.imsave(os.path.join('/scratch0/ilya/locDoc/data/celeba_MFclass', class_ids[ci], row['image_id']), crop)\n",
    "pbar.close()"
   ]
  },
  {
   "cell_type": "code",
   "execution_count": null,
   "metadata": {},
   "outputs": [],
   "source": []
  }
 ],
 "metadata": {
  "kernelspec": {
   "display_name": "Python 3",
   "language": "python",
   "name": "python3"
  },
  "language_info": {
   "codemirror_mode": {
    "name": "ipython",
    "version": 3
   },
   "file_extension": ".py",
   "mimetype": "text/x-python",
   "name": "python",
   "nbconvert_exporter": "python",
   "pygments_lexer": "ipython3",
   "version": "3.7.3"
  }
 },
 "nbformat": 4,
 "nbformat_minor": 2
}
