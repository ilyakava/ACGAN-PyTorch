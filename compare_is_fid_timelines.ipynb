{
 "cells": [
  {
   "cell_type": "code",
   "execution_count": 1,
   "metadata": {},
   "outputs": [],
   "source": [
    "import os\n",
    "import numpy as np\n",
    "from collections import defaultdict\n",
    "import jsonlines"
   ]
  },
  {
   "cell_type": "code",
   "execution_count": 2,
   "metadata": {},
   "outputs": [],
   "source": [
    "import matplotlib.pyplot as plt"
   ]
  },
  {
   "cell_type": "code",
   "execution_count": 4,
   "metadata": {
    "collapsed": true,
    "jupyter": {
     "outputs_hidden": true
    }
   },
   "outputs": [
    {
     "ename": "ModuleNotFoundError",
     "evalue": "No module named 'ipympl'",
     "output_type": "error",
     "traceback": [
      "\u001b[0;31m---------------------------------------------------------------------------\u001b[0m",
      "\u001b[0;31mModuleNotFoundError\u001b[0m                       Traceback (most recent call last)",
      "\u001b[0;32m<ipython-input-4-403593a192a6>\u001b[0m in \u001b[0;36m<module>\u001b[0;34m\u001b[0m\n\u001b[0;32m----> 1\u001b[0;31m \u001b[0mget_ipython\u001b[0m\u001b[0;34m(\u001b[0m\u001b[0;34m)\u001b[0m\u001b[0;34m.\u001b[0m\u001b[0mrun_line_magic\u001b[0m\u001b[0;34m(\u001b[0m\u001b[0;34m'matplotlib'\u001b[0m\u001b[0;34m,\u001b[0m \u001b[0;34m'ipympl'\u001b[0m\u001b[0;34m)\u001b[0m\u001b[0;34m\u001b[0m\u001b[0;34m\u001b[0m\u001b[0m\n\u001b[0m\u001b[1;32m      2\u001b[0m \u001b[0;34m\u001b[0m\u001b[0m\n\u001b[1;32m      3\u001b[0m \u001b[0;32mimport\u001b[0m \u001b[0mmatplotlib\u001b[0m\u001b[0;34m.\u001b[0m\u001b[0mpyplot\u001b[0m \u001b[0;32mas\u001b[0m \u001b[0mplt\u001b[0m\u001b[0;34m\u001b[0m\u001b[0;34m\u001b[0m\u001b[0m\n\u001b[1;32m      4\u001b[0m \u001b[0;32mimport\u001b[0m \u001b[0mmatplotlib\u001b[0m\u001b[0;34m.\u001b[0m\u001b[0mimage\u001b[0m \u001b[0;32mas\u001b[0m \u001b[0mmpimg\u001b[0m\u001b[0;34m\u001b[0m\u001b[0;34m\u001b[0m\u001b[0m\n\u001b[1;32m      5\u001b[0m \u001b[0;32mimport\u001b[0m \u001b[0mipympl\u001b[0m\u001b[0;34m\u001b[0m\u001b[0;34m\u001b[0m\u001b[0m\n",
      "\u001b[0;32m/scratch0/ilya/locDoc/miniconda2/envs/venvtf1p15nb/lib/python3.6/site-packages/IPython/core/interactiveshell.py\u001b[0m in \u001b[0;36mrun_line_magic\u001b[0;34m(self, magic_name, line, _stack_depth)\u001b[0m\n\u001b[1;32m   2315\u001b[0m                 \u001b[0mkwargs\u001b[0m\u001b[0;34m[\u001b[0m\u001b[0;34m'local_ns'\u001b[0m\u001b[0;34m]\u001b[0m \u001b[0;34m=\u001b[0m \u001b[0msys\u001b[0m\u001b[0;34m.\u001b[0m\u001b[0m_getframe\u001b[0m\u001b[0;34m(\u001b[0m\u001b[0mstack_depth\u001b[0m\u001b[0;34m)\u001b[0m\u001b[0;34m.\u001b[0m\u001b[0mf_locals\u001b[0m\u001b[0;34m\u001b[0m\u001b[0;34m\u001b[0m\u001b[0m\n\u001b[1;32m   2316\u001b[0m             \u001b[0;32mwith\u001b[0m \u001b[0mself\u001b[0m\u001b[0;34m.\u001b[0m\u001b[0mbuiltin_trap\u001b[0m\u001b[0;34m:\u001b[0m\u001b[0;34m\u001b[0m\u001b[0;34m\u001b[0m\u001b[0m\n\u001b[0;32m-> 2317\u001b[0;31m                 \u001b[0mresult\u001b[0m \u001b[0;34m=\u001b[0m \u001b[0mfn\u001b[0m\u001b[0;34m(\u001b[0m\u001b[0;34m*\u001b[0m\u001b[0margs\u001b[0m\u001b[0;34m,\u001b[0m \u001b[0;34m**\u001b[0m\u001b[0mkwargs\u001b[0m\u001b[0;34m)\u001b[0m\u001b[0;34m\u001b[0m\u001b[0;34m\u001b[0m\u001b[0m\n\u001b[0m\u001b[1;32m   2318\u001b[0m             \u001b[0;32mreturn\u001b[0m \u001b[0mresult\u001b[0m\u001b[0;34m\u001b[0m\u001b[0;34m\u001b[0m\u001b[0m\n\u001b[1;32m   2319\u001b[0m \u001b[0;34m\u001b[0m\u001b[0m\n",
      "\u001b[0;32m</scratch0/ilya/locDoc/miniconda2/envs/venvtf1p15nb/lib/python3.6/site-packages/decorator.py:decorator-gen-108>\u001b[0m in \u001b[0;36mmatplotlib\u001b[0;34m(self, line)\u001b[0m\n",
      "\u001b[0;32m/scratch0/ilya/locDoc/miniconda2/envs/venvtf1p15nb/lib/python3.6/site-packages/IPython/core/magic.py\u001b[0m in \u001b[0;36m<lambda>\u001b[0;34m(f, *a, **k)\u001b[0m\n\u001b[1;32m    185\u001b[0m     \u001b[0;31m# but it's overkill for just that one bit of state.\u001b[0m\u001b[0;34m\u001b[0m\u001b[0;34m\u001b[0m\u001b[0;34m\u001b[0m\u001b[0m\n\u001b[1;32m    186\u001b[0m     \u001b[0;32mdef\u001b[0m \u001b[0mmagic_deco\u001b[0m\u001b[0;34m(\u001b[0m\u001b[0marg\u001b[0m\u001b[0;34m)\u001b[0m\u001b[0;34m:\u001b[0m\u001b[0;34m\u001b[0m\u001b[0;34m\u001b[0m\u001b[0m\n\u001b[0;32m--> 187\u001b[0;31m         \u001b[0mcall\u001b[0m \u001b[0;34m=\u001b[0m \u001b[0;32mlambda\u001b[0m \u001b[0mf\u001b[0m\u001b[0;34m,\u001b[0m \u001b[0;34m*\u001b[0m\u001b[0ma\u001b[0m\u001b[0;34m,\u001b[0m \u001b[0;34m**\u001b[0m\u001b[0mk\u001b[0m\u001b[0;34m:\u001b[0m \u001b[0mf\u001b[0m\u001b[0;34m(\u001b[0m\u001b[0;34m*\u001b[0m\u001b[0ma\u001b[0m\u001b[0;34m,\u001b[0m \u001b[0;34m**\u001b[0m\u001b[0mk\u001b[0m\u001b[0;34m)\u001b[0m\u001b[0;34m\u001b[0m\u001b[0;34m\u001b[0m\u001b[0m\n\u001b[0m\u001b[1;32m    188\u001b[0m \u001b[0;34m\u001b[0m\u001b[0m\n\u001b[1;32m    189\u001b[0m         \u001b[0;32mif\u001b[0m \u001b[0mcallable\u001b[0m\u001b[0;34m(\u001b[0m\u001b[0marg\u001b[0m\u001b[0;34m)\u001b[0m\u001b[0;34m:\u001b[0m\u001b[0;34m\u001b[0m\u001b[0;34m\u001b[0m\u001b[0m\n",
      "\u001b[0;32m/scratch0/ilya/locDoc/miniconda2/envs/venvtf1p15nb/lib/python3.6/site-packages/IPython/core/magics/pylab.py\u001b[0m in \u001b[0;36mmatplotlib\u001b[0;34m(self, line)\u001b[0m\n\u001b[1;32m     97\u001b[0m             \u001b[0mprint\u001b[0m\u001b[0;34m(\u001b[0m\u001b[0;34m\"Available matplotlib backends: %s\"\u001b[0m \u001b[0;34m%\u001b[0m \u001b[0mbackends_list\u001b[0m\u001b[0;34m)\u001b[0m\u001b[0;34m\u001b[0m\u001b[0;34m\u001b[0m\u001b[0m\n\u001b[1;32m     98\u001b[0m         \u001b[0;32melse\u001b[0m\u001b[0;34m:\u001b[0m\u001b[0;34m\u001b[0m\u001b[0;34m\u001b[0m\u001b[0m\n\u001b[0;32m---> 99\u001b[0;31m             \u001b[0mgui\u001b[0m\u001b[0;34m,\u001b[0m \u001b[0mbackend\u001b[0m \u001b[0;34m=\u001b[0m \u001b[0mself\u001b[0m\u001b[0;34m.\u001b[0m\u001b[0mshell\u001b[0m\u001b[0;34m.\u001b[0m\u001b[0menable_matplotlib\u001b[0m\u001b[0;34m(\u001b[0m\u001b[0margs\u001b[0m\u001b[0;34m.\u001b[0m\u001b[0mgui\u001b[0m\u001b[0;34m.\u001b[0m\u001b[0mlower\u001b[0m\u001b[0;34m(\u001b[0m\u001b[0;34m)\u001b[0m \u001b[0;32mif\u001b[0m \u001b[0misinstance\u001b[0m\u001b[0;34m(\u001b[0m\u001b[0margs\u001b[0m\u001b[0;34m.\u001b[0m\u001b[0mgui\u001b[0m\u001b[0;34m,\u001b[0m \u001b[0mstr\u001b[0m\u001b[0;34m)\u001b[0m \u001b[0;32melse\u001b[0m \u001b[0margs\u001b[0m\u001b[0;34m.\u001b[0m\u001b[0mgui\u001b[0m\u001b[0;34m)\u001b[0m\u001b[0;34m\u001b[0m\u001b[0;34m\u001b[0m\u001b[0m\n\u001b[0m\u001b[1;32m    100\u001b[0m             \u001b[0mself\u001b[0m\u001b[0;34m.\u001b[0m\u001b[0m_show_matplotlib_backend\u001b[0m\u001b[0;34m(\u001b[0m\u001b[0margs\u001b[0m\u001b[0;34m.\u001b[0m\u001b[0mgui\u001b[0m\u001b[0;34m,\u001b[0m \u001b[0mbackend\u001b[0m\u001b[0;34m)\u001b[0m\u001b[0;34m\u001b[0m\u001b[0;34m\u001b[0m\u001b[0m\n\u001b[1;32m    101\u001b[0m \u001b[0;34m\u001b[0m\u001b[0m\n",
      "\u001b[0;32m/scratch0/ilya/locDoc/miniconda2/envs/venvtf1p15nb/lib/python3.6/site-packages/IPython/core/interactiveshell.py\u001b[0m in \u001b[0;36menable_matplotlib\u001b[0;34m(self, gui)\u001b[0m\n\u001b[1;32m   3417\u001b[0m                 \u001b[0mgui\u001b[0m\u001b[0;34m,\u001b[0m \u001b[0mbackend\u001b[0m \u001b[0;34m=\u001b[0m \u001b[0mpt\u001b[0m\u001b[0;34m.\u001b[0m\u001b[0mfind_gui_and_backend\u001b[0m\u001b[0;34m(\u001b[0m\u001b[0mself\u001b[0m\u001b[0;34m.\u001b[0m\u001b[0mpylab_gui_select\u001b[0m\u001b[0;34m)\u001b[0m\u001b[0;34m\u001b[0m\u001b[0;34m\u001b[0m\u001b[0m\n\u001b[1;32m   3418\u001b[0m \u001b[0;34m\u001b[0m\u001b[0m\n\u001b[0;32m-> 3419\u001b[0;31m         \u001b[0mpt\u001b[0m\u001b[0;34m.\u001b[0m\u001b[0mactivate_matplotlib\u001b[0m\u001b[0;34m(\u001b[0m\u001b[0mbackend\u001b[0m\u001b[0;34m)\u001b[0m\u001b[0;34m\u001b[0m\u001b[0;34m\u001b[0m\u001b[0m\n\u001b[0m\u001b[1;32m   3420\u001b[0m         \u001b[0mpt\u001b[0m\u001b[0;34m.\u001b[0m\u001b[0mconfigure_inline_support\u001b[0m\u001b[0;34m(\u001b[0m\u001b[0mself\u001b[0m\u001b[0;34m,\u001b[0m \u001b[0mbackend\u001b[0m\u001b[0;34m)\u001b[0m\u001b[0;34m\u001b[0m\u001b[0;34m\u001b[0m\u001b[0m\n\u001b[1;32m   3421\u001b[0m \u001b[0;34m\u001b[0m\u001b[0m\n",
      "\u001b[0;32m/scratch0/ilya/locDoc/miniconda2/envs/venvtf1p15nb/lib/python3.6/site-packages/IPython/core/pylabtools.py\u001b[0m in \u001b[0;36mactivate_matplotlib\u001b[0;34m(backend)\u001b[0m\n\u001b[1;32m    318\u001b[0m     \u001b[0;31m# when this function runs.\u001b[0m\u001b[0;34m\u001b[0m\u001b[0;34m\u001b[0m\u001b[0;34m\u001b[0m\u001b[0m\n\u001b[1;32m    319\u001b[0m     \u001b[0;31m# So avoid needing matplotlib attribute-lookup to access pyplot.\u001b[0m\u001b[0;34m\u001b[0m\u001b[0;34m\u001b[0m\u001b[0;34m\u001b[0m\u001b[0m\n\u001b[0;32m--> 320\u001b[0;31m     \u001b[0;32mfrom\u001b[0m \u001b[0mmatplotlib\u001b[0m \u001b[0;32mimport\u001b[0m \u001b[0mpyplot\u001b[0m \u001b[0;32mas\u001b[0m \u001b[0mplt\u001b[0m\u001b[0;34m\u001b[0m\u001b[0;34m\u001b[0m\u001b[0m\n\u001b[0m\u001b[1;32m    321\u001b[0m \u001b[0;34m\u001b[0m\u001b[0m\n\u001b[1;32m    322\u001b[0m     \u001b[0mplt\u001b[0m\u001b[0;34m.\u001b[0m\u001b[0mswitch_backend\u001b[0m\u001b[0;34m(\u001b[0m\u001b[0mbackend\u001b[0m\u001b[0;34m)\u001b[0m\u001b[0;34m\u001b[0m\u001b[0;34m\u001b[0m\u001b[0m\n",
      "\u001b[0;32m/scratch0/ilya/locDoc/miniconda2/envs/venvtf1p15nb/lib/python3.6/site-packages/matplotlib/pyplot.py\u001b[0m in \u001b[0;36m<module>\u001b[0;34m\u001b[0m\n\u001b[1;32m   2354\u001b[0m     \u001b[0mdict\u001b[0m\u001b[0;34m.\u001b[0m\u001b[0m__setitem__\u001b[0m\u001b[0;34m(\u001b[0m\u001b[0mrcParams\u001b[0m\u001b[0;34m,\u001b[0m \u001b[0;34m\"backend\"\u001b[0m\u001b[0;34m,\u001b[0m \u001b[0mrcsetup\u001b[0m\u001b[0;34m.\u001b[0m\u001b[0m_auto_backend_sentinel\u001b[0m\u001b[0;34m)\u001b[0m\u001b[0;34m\u001b[0m\u001b[0;34m\u001b[0m\u001b[0m\n\u001b[1;32m   2355\u001b[0m \u001b[0;31m# Set up the backend.\u001b[0m\u001b[0;34m\u001b[0m\u001b[0;34m\u001b[0m\u001b[0;34m\u001b[0m\u001b[0m\n\u001b[0;32m-> 2356\u001b[0;31m \u001b[0mswitch_backend\u001b[0m\u001b[0;34m(\u001b[0m\u001b[0mrcParams\u001b[0m\u001b[0;34m[\u001b[0m\u001b[0;34m\"backend\"\u001b[0m\u001b[0;34m]\u001b[0m\u001b[0;34m)\u001b[0m\u001b[0;34m\u001b[0m\u001b[0;34m\u001b[0m\u001b[0m\n\u001b[0m\u001b[1;32m   2357\u001b[0m \u001b[0;34m\u001b[0m\u001b[0m\n\u001b[1;32m   2358\u001b[0m \u001b[0;31m# Just to be safe.  Interactive mode can be turned on without\u001b[0m\u001b[0;34m\u001b[0m\u001b[0;34m\u001b[0m\u001b[0;34m\u001b[0m\u001b[0m\n",
      "\u001b[0;32m/scratch0/ilya/locDoc/miniconda2/envs/venvtf1p15nb/lib/python3.6/site-packages/matplotlib/pyplot.py\u001b[0m in \u001b[0;36mswitch_backend\u001b[0;34m(newbackend)\u001b[0m\n\u001b[1;32m    219\u001b[0m         else \"matplotlib.backends.backend_{}\".format(newbackend.lower()))\n\u001b[1;32m    220\u001b[0m \u001b[0;34m\u001b[0m\u001b[0m\n\u001b[0;32m--> 221\u001b[0;31m     \u001b[0mbackend_mod\u001b[0m \u001b[0;34m=\u001b[0m \u001b[0mimportlib\u001b[0m\u001b[0;34m.\u001b[0m\u001b[0mimport_module\u001b[0m\u001b[0;34m(\u001b[0m\u001b[0mbackend_name\u001b[0m\u001b[0;34m)\u001b[0m\u001b[0;34m\u001b[0m\u001b[0;34m\u001b[0m\u001b[0m\n\u001b[0m\u001b[1;32m    222\u001b[0m     Backend = type(\n\u001b[1;32m    223\u001b[0m         \"Backend\", (matplotlib.backends._Backend,), vars(backend_mod))\n",
      "\u001b[0;32m/scratch0/ilya/locDoc/miniconda2/envs/venvtf1p15nb/lib/python3.6/importlib/__init__.py\u001b[0m in \u001b[0;36mimport_module\u001b[0;34m(name, package)\u001b[0m\n\u001b[1;32m    124\u001b[0m                 \u001b[0;32mbreak\u001b[0m\u001b[0;34m\u001b[0m\u001b[0;34m\u001b[0m\u001b[0m\n\u001b[1;32m    125\u001b[0m             \u001b[0mlevel\u001b[0m \u001b[0;34m+=\u001b[0m \u001b[0;36m1\u001b[0m\u001b[0;34m\u001b[0m\u001b[0;34m\u001b[0m\u001b[0m\n\u001b[0;32m--> 126\u001b[0;31m     \u001b[0;32mreturn\u001b[0m \u001b[0m_bootstrap\u001b[0m\u001b[0;34m.\u001b[0m\u001b[0m_gcd_import\u001b[0m\u001b[0;34m(\u001b[0m\u001b[0mname\u001b[0m\u001b[0;34m[\u001b[0m\u001b[0mlevel\u001b[0m\u001b[0;34m:\u001b[0m\u001b[0;34m]\u001b[0m\u001b[0;34m,\u001b[0m \u001b[0mpackage\u001b[0m\u001b[0;34m,\u001b[0m \u001b[0mlevel\u001b[0m\u001b[0;34m)\u001b[0m\u001b[0;34m\u001b[0m\u001b[0;34m\u001b[0m\u001b[0m\n\u001b[0m\u001b[1;32m    127\u001b[0m \u001b[0;34m\u001b[0m\u001b[0m\n\u001b[1;32m    128\u001b[0m \u001b[0;34m\u001b[0m\u001b[0m\n",
      "\u001b[0;31mModuleNotFoundError\u001b[0m: No module named 'ipympl'"
     ]
    }
   ],
   "source": [
    "%matplotlib ipympl\n",
    "\n",
    "import matplotlib.pyplot as plt\n",
    "import matplotlib.image as mpimg\n",
    "import ipympl"
   ]
  },
  {
   "cell_type": "code",
   "execution_count": 3,
   "metadata": {},
   "outputs": [],
   "source": [
    "def load_or_make_hist(d):\n",
    "    if not os.path.isdir(d):\n",
    "        raise Exception('%s is not a valid directory' % d)\n",
    "    f = os.path.join(d, HIST_FNAME)\n",
    "    if os.path.isfile(f):\n",
    "        return np.load(f, allow_pickle=True).item()\n",
    "    else:\n",
    "        return defaultdict(dict)"
   ]
  },
  {
   "cell_type": "code",
   "execution_count": 4,
   "metadata": {},
   "outputs": [],
   "source": [
    "def no_zeros(t,x):\n",
    "    t = np.array(t)\n",
    "    x = np.array(x)\n",
    "    mask = x != 0\n",
    "    return t[mask], x[mask]"
   ]
  },
  {
   "cell_type": "code",
   "execution_count": 5,
   "metadata": {},
   "outputs": [],
   "source": [
    "mydirs = \"test102819 test1001credo3\"\n",
    "outf = \"/scratch0/ilya/locDoc/ACGAN/experiments\""
   ]
  },
  {
   "cell_type": "code",
   "execution_count": 6,
   "metadata": {},
   "outputs": [],
   "source": [
    "def dir_to_series(mydir):\n",
    "    \"\"\"\n",
    "    Define outf as a global.\n",
    "    \"\"\"\n",
    "\n",
    "    hist = load_or_make_hist(os.path.join(outf, mydir))\n",
    "    \n",
    "    def safe_get(v):\n",
    "        retme = []\n",
    "        if 'IS' in v:\n",
    "            retme.append(v['IS'][0])\n",
    "        else:\n",
    "            retme.append(0)\n",
    "        if 'FID' in v:\n",
    "            retme.append(v['FID'])\n",
    "        else:\n",
    "            retme.append(0)\n",
    "        return retme\n",
    "            \n",
    "\n",
    "    t, IS, Acc = list(zip(*sorted([(k, safe_get(v)[0], safe_get(v)[1]) for (k, v) in hist.items()])))\n",
    "    npAcc = np.array(Acc)\n",
    "    npIS = np.array(IS)\n",
    "    npt = np.array(t)\n",
    "    IS = npIS[npt <= 100000]\n",
    "    t = npt[npt <= 100000]\n",
    "    Acc = npAcc[npt <= 100000]\n",
    "    return t, IS, Acc\n"
   ]
  },
  {
   "cell_type": "code",
   "execution_count": 7,
   "metadata": {},
   "outputs": [],
   "source": [
    "def dir_tpo_acc_series_jsonl(mydir, fixtrain=1):\n",
    "    fpath = os.path.join(outf, '%s_log.jsonl' % mydir)\n",
    "    with jsonlines.open(fpath) as reader:\n",
    "        all_records = []\n",
    "        for obj in reader:\n",
    "            all_records.append((obj['itr'],obj['train_accuracy'],obj['test_accuracy'],obj['self_accuracy'],0.0))\n",
    "    t, train, test, self_, generator = list(zip(*sorted(all_records)))\n",
    "    t = np.array(t)\n",
    "    train = np.array(train) / fixtrain\n",
    "    test = np.array(test)\n",
    "    self_ = np.array(self_)\n",
    "    generator = np.array(generator)\n",
    "    return t, train, test, self_, generator"
   ]
  },
  {
   "cell_type": "code",
   "execution_count": 8,
   "metadata": {},
   "outputs": [],
   "source": [
    "def dir_to_acc_series(mydir):\n",
    "    \"\"\"\n",
    "    Define outf as a global.\n",
    "    \"\"\"\n",
    "\n",
    "    hist = load_or_make_hist(os.path.join(outf, mydir))\n",
    "    \n",
    "    def safe_get(v):\n",
    "        retme = []\n",
    "        def key_or_0(k):\n",
    "            if k in v:\n",
    "                retme.append(v[k])\n",
    "            else:\n",
    "                retme.append(0)\n",
    "        key_or_0('Train')\n",
    "        key_or_0('Test')\n",
    "        key_or_0('Self')\n",
    "        key_or_0('Generator')\n",
    "        return tuple(retme)\n",
    "            \n",
    "\n",
    "    t, train, test, self_, generator = list(zip(*sorted([(k,) + safe_get(v) for (k, v) in hist.items()])))\n",
    "    t = np.array(t)\n",
    "    train = np.array(train)\n",
    "    test = np.array(test)\n",
    "    self_ = np.array(self_)\n",
    "    generator = np.array(generator)\n",
    "    return t, train, test, self_, generator"
   ]
  },
  {
   "cell_type": "code",
   "execution_count": 9,
   "metadata": {},
   "outputs": [],
   "source": [
    "def dir_to_mean_label_series(mydir, nclass=10):\n",
    "    \"\"\"\n",
    "    Define outf as a global.\n",
    "    \"\"\"\n",
    "\n",
    "    hist = load_or_make_hist(os.path.join(outf, mydir))\n",
    "    \n",
    "    def safe_get(v):\n",
    "        retme = [0] * nclass\n",
    "        if 'Mean_Label' in v:\n",
    "            retme = (v['Mean_Label'])\n",
    "\n",
    "\n",
    "        return retme\n",
    "            \n",
    "\n",
    "    t, arr = list(zip(*sorted([(k,) + (safe_get(v),) for (k, v) in hist.items()])))\n",
    "    t = np.array(t)\n",
    "    arr = np.array(arr)\n",
    "    return t, arr"
   ]
  },
  {
   "cell_type": "code",
   "execution_count": 9,
   "metadata": {},
   "outputs": [],
   "source": [
    "mydirs = \"celeba5c_marygan celeba5c_acgan celeba_vanillagan\" # celebaMF_marygan"
   ]
  },
  {
   "cell_type": "code",
   "execution_count": 10,
   "metadata": {},
   "outputs": [],
   "source": [
    "mydirs = \"default mh_loss_noconcat_gap mh_loss_noconcat_gap_phase2_4 mhs_p05 fmloss\"\n",
    "outf = \"/scratch0/ilya/locDoc/BigGAN/cifartest\"\n",
    "#mh_loss_concat_gap mh_loss_concat_gap_resamp  mh_loss_noconcat_gap_phase2_2 mh_loss_noconcat_gap_phase2_3\n",
    "# for cifar10"
   ]
  },
  {
   "cell_type": "code",
   "execution_count": 142,
   "metadata": {},
   "outputs": [],
   "source": [
    "mydirs = \"mh_noconcat_2 mh_noconcat_baseline mh_noconcat_4step mh_noconcat_2_Glr2\"\n",
    "outf = \"/scratch0/ilya/locDoc/BigGAN/Imagenet64\"\n",
    "# for 64x64 imagenet"
   ]
  },
  {
   "cell_type": "code",
   "execution_count": 30,
   "metadata": {},
   "outputs": [],
   "source": [
    "mydirs = \"cifar100_mh cifar100_fm_and_cs_p05 cifar100_baseline_redo cifar100_fmloss\"\n",
    "mydirs = \"cifar100_fm_and_cs_p05 cifar100_fm_and_cs_p01\"\n",
    "# cifar100_mh_ema20k cifar100_mh cifar100_mh_phase2_3 cifar100_baseline_redo cifar100_fmloss cifar100_actual_baseline\n",
    "outf = \"/scratch0/ilya/locDoc/BigGAN/cifartest\"\n",
    "outf = \"/fs/vulcan-scratch/ilyak/locDoc/experiments/cifar100/\"\n",
    "# for cifar100"
   ]
  },
  {
   "cell_type": "code",
   "execution_count": 541,
   "metadata": {},
   "outputs": [],
   "source": [
    "mydirs = \"mhs_p05_32px stl32_with_unlab stl32_baseline_prjdisc stl32_with_unlab_improve stl32_with_fmloss stl32_with_fmloss_too stl32_with_unlab_improve_1step\"\n",
    "#mydirs = \"stl32_with_unlab_improve_1step\"\n",
    "outf = \"/scratch0/ilya/locDoc/BigGAN/stl\"\n",
    "# for stl 32"
   ]
  },
  {
   "cell_type": "code",
   "execution_count": 548,
   "metadata": {},
   "outputs": [],
   "source": [
    "mydirs = \"mh_48px_baseline mh_48px_fmloss mhs_p05_48px mh_48px_unlab_like64_improve_2\"\n",
    "#mydirs = 'mh_48px_fmloss'\n",
    "# mh_48px_unlab_simpler mh_48px_unlab_simpler_reallyaugment\n",
    "# mh_48px_unlab_like64 mh_48px_unlab_like64_improve mh_48px_unlab_like64_improve_2 mh_48px_fmloss mh_48px_fmloss_bs64 mh_48px_fmloss_bs256 \n",
    "outf = \"/scratch0/ilya/locDoc/BigGAN/stl\"\n",
    "# for stl 48"
   ]
  },
  {
   "cell_type": "code",
   "execution_count": 17,
   "metadata": {},
   "outputs": [],
   "source": [
    "mydirs = \"mhinge_p1 mhinge_p1_2step baseline_2step_128bs\"\n",
    "outf = \"/fs/vulcan-scratch/ilyak/locDoc/experiments/TinyImagenet_100k\"\n",
    "# for tiny-imagenet"
   ]
  },
  {
   "cell_type": "code",
   "execution_count": 87,
   "metadata": {},
   "outputs": [],
   "source": [
    "mydirs = \"mhinge_p1_2step tih_mhinge_p05_2step tih50k_mhinge_p025_2step tih50k_mhinge_p05_2step_Dlr2\" \n",
    "outf = \"/fs/vulcan-scratch/ilyak/locDoc/experiments/TinyImagenet_100k\"\n",
    "# for tiny-imagenet-half even"
   ]
  },
  {
   "cell_type": "code",
   "execution_count": 10,
   "metadata": {},
   "outputs": [],
   "source": [
    "# make ICML CIFAR10 supplemental material multiple runs charts\n",
    "mydirs = 'baseline_redo_feb1 baseline_redo_feb2 baseline_redo_feb3 baseline_redo_feb4 baseline_redo_feb5'\n",
    "mydirs += ' mhs_p05_redofeb1 mhs_p05_redofeb2 mhs_p05_redofeb3 mhs_p05_redofeb4 mhs_p05_redofeb5'\n",
    "mynames = 'Baseline T1,Baseline T2,Baseline T3,Baseline T4,Baseline T5,MHingeGAN T1,MHingeGAN T2,MHingeGAN T3,MHingeGAN T4,MHingeGAN T5'\n",
    "outf = '/scratch0/ilya/locDoc/BigGAN/cifar10'"
   ]
  },
  {
   "cell_type": "code",
   "execution_count": 13,
   "metadata": {},
   "outputs": [],
   "source": [
    "# make ICML CIFAR100 supplemental material multiple runs charts\n",
    "mydirs = 'cifar100_baseline_redo_feb1 cifar100_baseline_redo_feb2 cifar100_baseline_redo_feb3 cifar100_baseline_redo_feb4 cifar100_baseline_redo_feb5'\n",
    "mydirs += ' c100_mh_p05_redo_feb1 c100_mh_p05_redo_feb2 c100_mh_p05_redo_feb3 c100_mh_p05_redo_feb4 c100_mh_p05_redo_feb5'\n",
    "mynames = 'Baseline T1,Baseline T2,Baseline T3,Baseline T4,Baseline T5,MHingeGAN T1,MHingeGAN T2,MHingeGAN T3,MHingeGAN T4,MHingeGAN T5'\n",
    "outf = '/scratch0/ilya/locDoc/BigGAN/cifar100'"
   ]
  },
  {
   "cell_type": "code",
   "execution_count": 52,
   "metadata": {},
   "outputs": [],
   "source": [
    "# make ICML CIFAR100 supplemental material multiple runs charts\n",
    "mydirs = 'cifar100_baseline_redo_feb1 cifar100_baseline_redo_feb2 cifar100_baseline_redo_feb3 cifar100_baseline_redo_feb4 cifar100_baseline_redo_feb5'\n",
    "mydirs += ' c100_mh_p05_redo_feb2_ctd_c c100_mh_p05_redo_feb2'\n",
    "mynames = 'Baseline T1,Baseline T2,Baseline T3,Baseline T4,Baseline T5,MHingeGAN'\n",
    "outf = '/scratch0/ilya/locDoc/BigGAN/cifar100'"
   ]
  },
  {
   "cell_type": "code",
   "execution_count": 14,
   "metadata": {},
   "outputs": [],
   "source": [
    "HIST_FNAME = 'scoring_hist.npy'\n",
    "\n",
    "mydirs_ = mydirs.split(' ')\n",
    "mynames_ = mynames.split(',')\n",
    "full_paths = [os.path.join(outf, d) for d in mydirs_]\n",
    "hists = [load_or_make_hist(d) for d in full_paths]"
   ]
  },
  {
   "cell_type": "code",
   "execution_count": 15,
   "metadata": {},
   "outputs": [
    {
     "name": "stdout",
     "output_type": "stream",
     "text": [
      "cifar100_baseline_redo_feb1 @ 97500\n",
      "{'IS': [10.871011, 0.16130468], 'FID': 10.52229674740056}\n",
      "cifar100_baseline_redo_feb2 @ 97500\n",
      "{'IS': [10.878706, 0.12942174], 'FID': 10.412228471226854}\n",
      "cifar100_baseline_redo_feb3 @ 97500\n",
      "{'IS': [10.831228, 0.15103668], 'FID': 10.716435182853047}\n",
      "cifar100_baseline_redo_feb4 @ 97500\n",
      "{'IS': [11.038257, 0.13277292], 'FID': 10.51492636686504}\n",
      "cifar100_baseline_redo_feb5 @ 75000\n",
      "{'IS': [10.8328285, 0.18673599], 'FID': 10.53053305880212}\n",
      "c100_mh_p05_redo_feb1 @ 48000\n",
      "{'IS': [14.137062, 0.16723831], 'FID': 24.38698882390878}\n",
      "c100_mh_p05_redo_feb2 @ 34000\n",
      "{'IS': [11.27719, 0.22163828], 'FID': 15.476205254242302}\n",
      "c100_mh_p05_redo_feb3 @ 50000\n",
      "{'IS': [14.273328, 0.24124484], 'FID': 15.977782276553398}\n",
      "c100_mh_p05_redo_feb4 @ 48000\n",
      "{'IS': [13.961456, 0.16861182], 'FID': 27.25221729778599}\n",
      "c100_mh_p05_redo_feb5 @ 46000\n",
      "{'IS': [13.815399, 0.24482483], 'FID': 22.42960755411491}\n"
     ]
    },
    {
     "data": {
      "text/plain": [
       "Text(0.5, 1.0, 'IS CIFAR100, λ = 0.025 @ 34000')"
      ]
     },
     "execution_count": 15,
     "metadata": {},
     "output_type": "execute_result"
    },
    {
     "data": {
      "image/png": "[encoded data removed]",
      "text/plain": [
       "<Figure size 432x288 with 1 Axes>"
      ]
     },
     "metadata": {
      "needs_background": "light"
     },
     "output_type": "display_data"
    }
   ],
   "source": [
    "# Plot IS for ICML supplemental material multiple runs charts\n",
    " \n",
    "plt.figure()\n",
    "maxes = []\n",
    "max_times = []\n",
    "for i in range(len(mydirs_)):\n",
    "#     t, IS = list(zip(*[(k, v['IS'][0]) for (k, v) in hists[i].items()]))\n",
    "    \n",
    "    def safe_IS(v):\n",
    "        if 'IS' in v:\n",
    "            return v['IS'][0]\n",
    "        else:\n",
    "            return 0\n",
    "    \n",
    "    t, IS = list(zip(*sorted([(k, safe_IS(v)) for (k, v) in hists[i].items()])))\n",
    "    npIS = np.array(IS)\n",
    "    npt = np.array(t)\n",
    "    t_limit = 100000\n",
    "    if i == 6:\n",
    "        t_limit = 34000\n",
    "    IS = npIS[npt <= t_limit]\n",
    "    t = npt[npt <= t_limit]\n",
    "    \n",
    "    best_time = t[np.argmax(IS)]\n",
    "    print('%s @ %i' % (mydirs_[i],best_time))\n",
    "    print(hists[i][best_time])\n",
    "    \n",
    "    max_times.append(best_time)\n",
    "    maxes.append(IS[np.argmax(IS)])\n",
    "\n",
    "    t_, IS_ = no_zeros(t,IS)\n",
    "    mycolor = 'red' if i < 5 else 'green'\n",
    "    plt.plot(t_,IS_, mycolor) #, '-o'\n",
    "legend = mynames_\n",
    "#legend = [\"BigGAN\", \"My Loss trial 1\", \"My Loss trial 2\"]\n",
    "plt.legend([\"%s @ %i (%.2f)\" % (s, max_times[i], maxes[i]) for i,s in enumerate(legend)])\n",
    "plt.title('IS CIFAR100, λ = 0.025 @ 34000')"
   ]
  },
  {
   "cell_type": "code",
   "execution_count": 56,
   "metadata": {},
   "outputs": [
    {
     "name": "stderr",
     "output_type": "stream",
     "text": [
      "/scratch0/ilya/locDoc/miniconda2/envs/venvcuda10/lib/python3.6/site-packages/ipykernel_launcher.py:3: RuntimeWarning: More than 20 figures have been opened. Figures created through the pyplot interface (`matplotlib.pyplot.figure`) are retained until explicitly closed and may consume too much memory. (To control this warning, see the rcParam `figure.max_open_warning`).\n",
      "  This is separate from the ipykernel package so we can avoid doing imports until\n"
     ]
    },
    {
     "data": {
      "application/vnd.jupyter.widget-view+json": {
       "model_id": "4e0c42cef24e4e4ba57319100448b563",
       "version_major": 2,
       "version_minor": 0
      },
      "text/plain": [
       "FigureCanvasNbAgg()"
      ]
     },
     "metadata": {},
     "output_type": "display_data"
    },
    {
     "name": "stdout",
     "output_type": "stream",
     "text": [
      "cifar100_baseline_redo_feb1 @ 95000\n",
      "{'IS': [10.69425, 0.2117463], 'FID': 10.207756774670315}\n",
      "cifar100_baseline_redo_feb2 @ 77500\n",
      "{'IS': [10.57014, 0.06856316], 'FID': 10.377613150700654}\n",
      "cifar100_baseline_redo_feb3 @ 100000\n",
      "{'IS': [10.798991, 0.18519102], 'FID': 10.239701950528001}\n",
      "cifar100_baseline_redo_feb4 @ 95000\n",
      "{'IS': [10.998212, 0.14290628], 'FID': 9.991211436724143}\n",
      "cifar100_baseline_redo_feb5 @ 97500\n",
      "{'IS': [10.798391, 0.09116938], 'FID': 9.693693168705693}\n",
      "c100_mh_p05_redo_feb2_ctd_c @ 46000\n",
      "{'IS': [12.560494, 0.17132449], 'FID': 12.4754239101635}\n",
      "c100_mh_p05_redo_feb2 @ 34000\n",
      "{'IS': [11.27719, 0.22163828], 'FID': 15.476205254242302}\n"
     ]
    },
    {
     "data": {
      "text/plain": [
       "Text(0.5, 1.0, 'FID CIFAR100, λ = 0.025 @ 34000')"
      ]
     },
     "execution_count": 56,
     "metadata": {},
     "output_type": "execute_result"
    }
   ],
   "source": [
    "# Plot FID for ICML supplemental material multiple runs charts\n",
    "\n",
    "plt.figure()\n",
    "maxes = []\n",
    "max_times = []\n",
    "for i in range(len(mydirs_)):\n",
    "#     t, IS = list(zip(*[(k, v['IS'][0]) for (k, v) in hists[i].items()]))\n",
    "    \n",
    "    def safe_IS(v):\n",
    "        if 'FID' in v:\n",
    "            val = v['FID']\n",
    "            if val > 0 and val < 1000:\n",
    "                return val\n",
    "            else:\n",
    "                return 0\n",
    "        else:\n",
    "            return 0\n",
    "    npIS = np.array(IS)\n",
    "    t, IS = list(zip(*sorted([(k, safe_IS(v)) for (k, v) in hists[i].items()])))\n",
    "    npIS = np.array(IS)\n",
    "    npt = np.array(t)\n",
    "    t_limit = 100000\n",
    "    if i == 6:\n",
    "        t_limit = 34000\n",
    "    IS = npIS[npt <= t_limit]\n",
    "    t = npt[npt <= t_limit]\n",
    "    t_, IS_ = no_zeros(t,IS)\n",
    "    \n",
    "    best_time = t_[np.argmin(IS_)]\n",
    "    print('%s @ %i' % (mydirs_[i],best_time))\n",
    "    print(hists[i][best_time])\n",
    "    \n",
    "    max_times.append(best_time)\n",
    "    maxes.append(IS_[np.argmin(IS_)])\n",
    "    \n",
    "    \n",
    "    mycolor = 'red' if i < 5 else 'green'\n",
    "    plt.plot(t_, IS_, mycolor) #, '-o'\n",
    "legend = mynames_\n",
    "#legend = [\"BigGAN\", \"My Loss trial 1\", \"My Loss trial 2\"]\n",
    "plt.legend([\"%s @ %i (%.4f)\" % (s, max_times[i], maxes[i]) for i,s in enumerate(legend)])\n",
    "plt.title('FID CIFAR100, λ = 0.025 @ 34000')"
   ]
  },
  {
   "cell_type": "code",
   "execution_count": 89,
   "metadata": {},
   "outputs": [],
   "source": [
    "plt.close('all')"
   ]
  },
  {
   "cell_type": "code",
   "execution_count": 15,
   "metadata": {},
   "outputs": [],
   "source": [
    "HIST_FNAME = 'scoring_hist.npy'\n",
    "\n",
    "mydirs_ = mydirs.split(' ')\n",
    "full_paths = [os.path.join(outf, d) for d in mydirs_]\n",
    "hists = [load_or_make_hist(d) for d in full_paths]"
   ]
  },
  {
   "cell_type": "code",
   "execution_count": 16,
   "metadata": {},
   "outputs": [
    {
     "data": {
      "application/vnd.jupyter.widget-view+json": {
       "model_id": "1aa2e8cec8cb415e85512f36580d9a81",
       "version_major": 2,
       "version_minor": 0
      },
      "text/plain": [
       "FigureCanvasNbAgg()"
      ]
     },
     "metadata": {},
     "output_type": "display_data"
    },
    {
     "name": "stdout",
     "output_type": "stream",
     "text": [
      "baseline_redo_feb1 @ 67500\n",
      "{'IS': [9.08104, 0.1001138], 'FID': 8.644954497162814}\n",
      "baseline_redo_feb2 @ 100000\n",
      "{'IS': [9.000514, 0.1598081], 'FID': 8.612518554772294}\n",
      "baseline_redo_feb3 @ 92500\n",
      "{'IS': [9.0841675, 0.1285564], 'FID': 7.924650647583519}\n",
      "baseline_redo_feb4 @ 97500\n",
      "{'IS': [9.033888, 0.16738516], 'FID': 7.984685824713722}\n"
     ]
    },
    {
     "data": {
      "text/plain": [
       "Text(0.5, 1.0, 'IS')"
      ]
     },
     "execution_count": 16,
     "metadata": {},
     "output_type": "execute_result"
    }
   ],
   "source": [
    "# Plot IS\n",
    "\n",
    "plt.figure()\n",
    "maxes = []\n",
    "max_times = []\n",
    "for i in range(len(mydirs_)):\n",
    "#     t, IS = list(zip(*[(k, v['IS'][0]) for (k, v) in hists[i].items()]))\n",
    "    \n",
    "    def safe_IS(v):\n",
    "        if 'IS' in v:\n",
    "            return v['IS'][0]\n",
    "        else:\n",
    "            return 0\n",
    "    \n",
    "    t, IS = list(zip(*sorted([(k, safe_IS(v)) for (k, v) in hists[i].items()])))\n",
    "    npIS = np.array(IS)\n",
    "    npt = np.array(t)\n",
    "    IS = npIS[npt <= 200000]\n",
    "    t = npt[npt <= 200000]\n",
    "    \n",
    "    best_time = t[np.argmax(IS)]\n",
    "    print('%s @ %i' % (mydirs_[i],best_time))\n",
    "    print(hists[i][best_time])\n",
    "    \n",
    "    max_times.append(best_time)\n",
    "    maxes.append(IS[np.argmax(IS)])\n",
    "\n",
    "    t_, IS_ = no_zeros(t,IS)\n",
    "    plt.plot(t_,IS_) #, '-o'\n",
    "legend = mydirs_\n",
    "#legend = [\"BigGAN\", \"My Loss trial 1\", \"My Loss trial 2\"]\n",
    "plt.legend([\"%s @ %i (%.2f)\" % (s, max_times[i], maxes[i]) for i,s in enumerate(legend)])\n",
    "plt.title('IS')"
   ]
  },
  {
   "cell_type": "code",
   "execution_count": 40,
   "metadata": {},
   "outputs": [
    {
     "data": {
      "application/vnd.jupyter.widget-view+json": {
       "model_id": "2a8fd8e601364912b2d5dcee2930bb09",
       "version_major": 2,
       "version_minor": 0
      },
      "text/plain": [
       "FigureCanvasNbAgg()"
      ]
     },
     "metadata": {},
     "output_type": "display_data"
    },
    {
     "name": "stdout",
     "output_type": "stream",
     "text": [
      "cifar100_fm_and_cs_p05 @ 44000\n",
      "{'IS': [12.598786, 0.16117056], 'Test': 0.557, 'Self': 0.5369, 'Train': 0.9799, 'Generator': 0.8353, 'Mean_Label': array([0.0095, 0.0082, 0.0124, 0.0113, 0.0079, 0.0101, 0.0098, 0.0106,\n",
      "       0.0121, 0.0046, 0.0148, 0.0098, 0.0098, 0.0085, 0.0165, 0.0077,\n",
      "       0.0105, 0.0087, 0.007 , 0.0127, 0.0069, 0.0096, 0.0111, 0.0099,\n",
      "       0.0097, 0.012 , 0.0119, 0.013 , 0.0092, 0.0145, 0.0107, 0.013 ,\n",
      "       0.0148, 0.0088, 0.0098, 0.0065, 0.0083, 0.0083, 0.0112, 0.0047,\n",
      "       0.0059, 0.009 , 0.0139, 0.008 , 0.0136, 0.0091, 0.0156, 0.01  ,\n",
      "       0.0122, 0.01  , 0.0042, 0.0115, 0.0102, 0.0112, 0.0084, 0.0024,\n",
      "       0.0105, 0.0082, 0.0086, 0.0076, 0.0087, 0.0095, 0.0096, 0.0128,\n",
      "       0.0099, 0.0117, 0.0074, 0.0116, 0.008 , 0.0106, 0.0111, 0.0113,\n",
      "       0.0078, 0.0089, 0.0151, 0.0113, 0.0093, 0.0074, 0.0115, 0.0128,\n",
      "       0.0069, 0.0089, 0.0056, 0.0087, 0.0118, 0.0142, 0.01  , 0.0098,\n",
      "       0.0098, 0.0083, 0.0103, 0.0066, 0.0106, 0.0107, 0.0138, 0.016 ,\n",
      "       0.009 , 0.0079, 0.0059, 0.0108]), 'FID': 13.317462304576907}\n",
      "cifar100_fm_and_cs_p01 @ 2500\n",
      "{'IS': [5.0688396, 0.071842976], 'Test': 0.1396, 'Self': 0.01, 'Generator': 0.0107, 'Mean_Label': array([0.0076, 0.0035, 0.0046, 0.0149, 0.0179, 0.0042, 0.0038, 0.0038,\n",
      "       0.0016, 0.0006, 0.0126, 0.0022, 0.0016, 0.0034, 0.0119, 0.0042,\n",
      "       0.0006, 0.0024, 0.0073, 0.0189, 0.0009, 0.0068, 0.0011, 0.0051,\n",
      "       0.0047, 0.002 , 0.036 , 0.0446, 0.0026, 0.0089, 0.001 , 0.0116,\n",
      "       0.0862, 0.0287, 0.0059, 0.0035, 0.0016, 0.011 , 0.0078, 0.0001,\n",
      "       0.0034, 0.0019, 0.022 , 0.0032, 0.0207, 0.0444, 0.0054, 0.0024,\n",
      "       0.0006, 0.0283, 0.0176, 0.0199, 0.0022, 0.0161, 0.0024, 0.0168,\n",
      "       0.0001, 0.0228, 0.0003, 0.0124, 0.0011, 0.0031, 0.0249, 0.0255,\n",
      "       0.0084, 0.0128, 0.0025, 0.0156, 0.0001, 0.0032, 0.0037, 0.0022,\n",
      "       0.022 , 0.0115, 0.0247, 0.004 , 0.0005, 0.0034, 0.0041, 0.0075,\n",
      "       0.0115, 0.001 , 0.0043, 0.0015, 0.0024, 0.0221, 0.0002, 0.0001,\n",
      "       0.0016, 0.0061, 0.0043, 0.0036, 0.0084, 0.0254, 0.0024, 0.0061,\n",
      "       0.0609, 0.0033, 0.0035, 0.0083])}\n"
     ]
    },
    {
     "data": {
      "text/plain": [
       "Text(0.5, 1.0, 'FID')"
      ]
     },
     "execution_count": 40,
     "metadata": {},
     "output_type": "execute_result"
    }
   ],
   "source": [
    "# Plot Test FID\n",
    "\n",
    "plt.figure()\n",
    "maxes = []\n",
    "max_times = []\n",
    "for i in range(len(mydirs_)):\n",
    "#     t, IS = list(zip(*[(k, v['IS'][0]) for (k, v) in hists[i].items()]))\n",
    "    \n",
    "    def safe_IS(v):\n",
    "        if 'FID' in v:\n",
    "            return v['FID']\n",
    "        else:\n",
    "            return 0\n",
    "    npIS = np.array(IS)\n",
    "    t, IS = list(zip(*sorted([(k, safe_IS(v)) for (k, v) in hists[i].items()])))\n",
    "    npIS = np.array(IS)\n",
    "    npt = np.array(t)\n",
    "    IS = npIS[npt <= 200000]\n",
    "    t = npt[npt <= 200000]\n",
    "    \n",
    "    best_time = t[np.argmin(IS)]\n",
    "    print('%s @ %i' % (mydirs_[i],best_time))\n",
    "    print(hists[i][best_time])\n",
    "    \n",
    "    max_times.append(best_time)\n",
    "    maxes.append(IS[np.argmin(IS)])\n",
    "    \n",
    "    t_, IS_ = no_zeros(t,IS)\n",
    "    plt.plot(t_, IS_) #, '-o'\n",
    "legend = mydirs_\n",
    "#legend = [\"BigGAN\", \"My Loss trial 1\", \"My Loss trial 2\"]\n",
    "plt.legend([\"%s @ %i (%.4f)\" % (s, max_times[i], maxes[i]) for i,s in enumerate(legend)])\n",
    "plt.title('FID')"
   ]
  },
  {
   "cell_type": "code",
   "execution_count": 530,
   "metadata": {},
   "outputs": [],
   "source": [
    "# STL 48 merge series of experiment that was split\n",
    "\n",
    "outf = \"/scratch0/ilya/locDoc/BigGAN/stl\"\n",
    "\n",
    "t_base, is_base, fid_base = dir_to_series(\"mh_48px_baseline\")\n",
    "t_b, is_b, fid_b = dir_to_series(\"mh_48px_fmloss\")\n",
    "\n",
    "t_a, is_a, fid_a = dir_to_series(\"mhs_p05_48px\")"
   ]
  },
  {
   "cell_type": "code",
   "execution_count": null,
   "metadata": {},
   "outputs": [],
   "source": [
    "# STL 32 merge series of experiment that was split\n",
    "\n",
    "t_fm, is_fm, acc_fm = dir_to_series(\"stl32_with_fmloss\")\n",
    "t_1, is_1, acc_1 = dir_to_series(\"stl32_with_unlab\")\n",
    "t_2, is_2, acc_2 = dir_to_series(\"stl32_with_unlab_improve_1step\")\n",
    "\n",
    "t_b = np.concatenate([t_1[:9], t_2])\n",
    "is_b = np.concatenate([is_1[:9], is_2])\n",
    "acc_b = np.concatenate([acc_1[:9], acc_2])"
   ]
  },
  {
   "cell_type": "code",
   "execution_count": 522,
   "metadata": {},
   "outputs": [],
   "source": [
    "# CIFAR10 merge series of experiment that was split\n",
    "outf = \"/scratch0/ilya/locDoc/BigGAN/cifartest\"\n",
    "\n",
    "t_base, is_base, fid_base = dir_to_series(\"default\")\n",
    "t_1, is_1, fid_1 = dir_to_series(\"mh_loss_noconcat_gap\")\n",
    "t_2, is_2, fid_2 = dir_to_series(\"mh_loss_noconcat_gap_phase2_4\")\n",
    "\n",
    "t_b = np.concatenate([t_1[:9], t_2])\n",
    "is_b = np.concatenate([is_1[:9], is_2])\n",
    "fid_b = np.concatenate([fid_1[:9], fid_2])\n",
    "\n",
    "t_a, is_a, fid_a = dir_to_series(\"mhs_p05\")"
   ]
  },
  {
   "cell_type": "code",
   "execution_count": 527,
   "metadata": {},
   "outputs": [],
   "source": [
    "# for cifar100\n",
    "outf = \"/scratch0/ilya/locDoc/BigGAN/cifartest\"\n",
    "\n",
    "\n",
    "t_base, is_base, fid_base = dir_to_series(\"cifar100_baseline_redo\")\n",
    "t_b, is_b, fid_b = dir_to_series(\"cifar100_mh\")\n",
    "t_a, is_a, fid_a = dir_to_series(\"cifar100_fm_and_cs_p05\")"
   ]
  },
  {
   "cell_type": "code",
   "execution_count": 533,
   "metadata": {},
   "outputs": [
    {
     "data": {
      "application/vnd.jupyter.widget-view+json": {
       "model_id": "b6e083df75994bf3905b1c469471ad87",
       "version_major": 2,
       "version_minor": 0
      },
      "text/plain": [
       "FigureCanvasNbAgg()"
      ]
     },
     "metadata": {},
     "output_type": "display_data"
    },
    {
     "data": {
      "text/plain": [
       "Text(0,0.5,'Inception Score')"
      ]
     },
     "execution_count": 533,
     "metadata": {},
     "output_type": "execute_result"
    }
   ],
   "source": [
    "#IS plot\n",
    "\n",
    "fig, ax1 = plt.subplots()\n",
    "\n",
    "t_base_, is_base_ = no_zeros(t_base, is_base)\n",
    "plt.plot(t_base_,is_base_)\n",
    "\n",
    "t_b_, is_b_ = no_zeros(t_b, is_b)\n",
    "plt.plot(t_b_,is_b_)\n",
    "\n",
    "t_a_, is_a_ = no_zeros(t_a, is_a)\n",
    "plt.plot(t_a_,is_a_)\n",
    "\n",
    "ax1.set_axisbelow(True)\n",
    "ax1.yaxis.grid(color='gray', linestyle='dashed')\n",
    "#plt.ylim([0.0,1.1])\n",
    "plt.legend(['Baseline', 'MHingeGAN FM', 'MHingeGAN'])\n",
    "plt.xticks(np.array([0,2,4,6,8,10])*10000, [0,2,4,6,8,10])\n",
    "plt.xlabel('itrs 1e4')\n",
    "plt.ylabel('Inception Score')"
   ]
  },
  {
   "cell_type": "code",
   "execution_count": 534,
   "metadata": {},
   "outputs": [
    {
     "data": {
      "application/vnd.jupyter.widget-view+json": {
       "model_id": "6d85708378b1430b97ebcd797d9a55b6",
       "version_major": 2,
       "version_minor": 0
      },
      "text/plain": [
       "FigureCanvasNbAgg()"
      ]
     },
     "metadata": {},
     "output_type": "display_data"
    },
    {
     "data": {
      "text/plain": [
       "Text(0,0.5,'FID')"
      ]
     },
     "execution_count": 534,
     "metadata": {},
     "output_type": "execute_result"
    }
   ],
   "source": [
    "#FID plot\n",
    "\n",
    "fig, ax1 = plt.subplots()\n",
    "\n",
    "t_base_, fid_base_ = no_zeros(t_base, fid_base)\n",
    "plt.plot(t_base_,fid_base_)\n",
    "\n",
    "t_b_, fid_b_ = no_zeros(t_b, fid_b)\n",
    "plt.plot(t_b_,fid_b_)\n",
    "\n",
    "t_a_, fid_a_ = no_zeros(t_a, fid_a)\n",
    "plt.plot(t_a_,fid_a_)\n",
    "\n",
    "ax1.set_axisbelow(True)\n",
    "ax1.yaxis.grid(color='gray', linestyle='dashed')\n",
    "plt.ylim([0.0,50])\n",
    "plt.legend(['Baseline', 'MHingeGAN FM', 'MHingeGAN'])\n",
    "plt.xticks(np.array([0,2,4,6,8,10])*10000, [0,2,4,6,8,10])\n",
    "plt.xlabel('itrs 1e4')\n",
    "plt.ylabel('FID')"
   ]
  },
  {
   "cell_type": "code",
   "execution_count": 555,
   "metadata": {},
   "outputs": [],
   "source": [
    "# CIFAR10 merge series of experiment that was split, 4 ACCURACIES\n",
    "outf = \"/scratch0/ilya/locDoc/BigGAN/cifartest\"\n",
    "\n",
    "t_base, tr_base, te_base, s_base, g_base = dir_to_acc_series(\"default\")\n",
    "t_1, tr_1, te_1, s_1, g_1 = dir_to_acc_series(\"mh_loss_noconcat_gap\")\n",
    "t_2, tr_2, te_2, s_2, g_2 = dir_to_acc_series(\"mh_loss_noconcat_gap_phase2_4\")\n",
    "\n",
    "t_b = np.concatenate([t_1[:9], t_2])\n",
    "tr_b = np.concatenate([tr_1[:9], tr_2])\n",
    "te_b = np.concatenate([te_1[:9], te_2])\n",
    "s_b = np.concatenate([s_1[:9], s_2])\n",
    "g_b = np.concatenate([g_1[:9], g_2])\n",
    "\n",
    "t_b, tr_b, te_b, s_b, g_b = dir_to_acc_series(\"mhs_p05\")"
   ]
  },
  {
   "cell_type": "code",
   "execution_count": 325,
   "metadata": {},
   "outputs": [],
   "source": [
    "# CIFAR10 have them all end at the same time after collapse\n",
    "te_b[69:] = 0.0"
   ]
  },
  {
   "cell_type": "code",
   "execution_count": 18,
   "metadata": {},
   "outputs": [],
   "source": [
    "# STL 32 merge series of experiment that was split, 4 ACCURACIES\n",
    "\n",
    "t_1, tr_1, te_1, s_1, g_1 = dir_to_acc_series(\"stl32_with_unlab\")\n",
    "t_2, tr_2, te_2, s_2, g_2 = dir_to_acc_series(\"stl32_with_unlab_improve_1step\")\n",
    "\n",
    "t_b = np.concatenate([t_1[:9], t_2])\n",
    "tr_b = np.concatenate([tr_1[:9], tr_2])\n",
    "te_b = np.concatenate([te_1[:9], te_2])\n",
    "s_b = np.concatenate([s_1[:9], s_2])\n",
    "g_b = np.concatenate([g_1[:9], g_2])"
   ]
  },
  {
   "cell_type": "code",
   "execution_count": 346,
   "metadata": {},
   "outputs": [],
   "source": [
    "# STL 48, 4 ACCURACIES\n",
    "\n",
    "#t_base, tr_base, te_base, s_base, g_base = dir_to_acc_series(\"mh_48px_baseline\")\n",
    "t_b, tr_b, te_b, s_b, g_b = dir_to_acc_series(\"mhs_p05_48px\")\n",
    "t_b, tr_b, te_b, s_b, g_b = dir_to_acc_series(\"mh_48px_fmloss\")\n",
    "\n"
   ]
  },
  {
   "cell_type": "code",
   "execution_count": 52,
   "metadata": {},
   "outputs": [],
   "source": [
    "# CIFAR 100, 4 ACCURACIES\n",
    "outf = \"/fs/vulcan-scratch/ilyak/locDoc/experiments/cifar100\"\n",
    "\n",
    "t_base, tr_base, te_base, s_base, g_base = dir_to_acc_series(\"cifar100_fm_and_cs_p05\") # cifar100_fm_and_cs_p01\n",
    "#t_b, tr_b, te_b, s_b, g_b = dir_to_acc_series(\"cifar100_mh\")\n",
    "#t_b, tr_b, te_b, s_b, g_b = dir_to_acc_series(\"cifar100_fmloss\")\n",
    "t_b, tr_b, te_b, s_b, g_b = dir_to_acc_series(\"cifar100_fm_and_cs_p01\")\n",
    "#t_b, tr_b, te_b, s_b, g_b = dir_to_acc_series(\"cifar100_fm_and_cs_p01\")\n"
   ]
  },
  {
   "cell_type": "code",
   "execution_count": 96,
   "metadata": {},
   "outputs": [],
   "source": [
    "# Tiny imagenet 64, 4 ACCURACIES\n",
    "\n",
    "mydirs = \"tih_mhinge_p05_2step tih50k_mhinge_p025_2step\"\n",
    "# mydirs = \"mhinge_p1 mhinge_p1_2step\"\n",
    "# mydirs = \"tih_mhinge_p05_2step tih50k_mhinge_p025_2step tih50k_mhinge_p05_2step_Dlr2\" \n",
    "outf = \"/fs/vulcan-scratch/ilyak/locDoc/experiments/TinyImagenet_100k\"\n",
    "\n",
    "#t_base, tr_base, te_base, s_base, g_base = dir_to_acc_series(\"tih_mhinge_p05_2step\")\n",
    "t_base, tr_base, te_base, s_base, g_base = dir_tpo_acc_series_jsonl(\"tih_mhinge_p05_2step\",2)\n",
    "#t_b, tr_b, te_b, s_b, g_b = dir_to_acc_series(\"cifar100_mh\")\n",
    "#t_b, tr_b, te_b, s_b, g_b = dir_to_acc_series(\"mhinge_p1_2step\")\n",
    "t_b, tr_b, te_b, s_b, g_b = dir_tpo_acc_series_jsonl(\"mhinge_p1_2step_ctd\")\n",
    "\n"
   ]
  },
  {
   "cell_type": "code",
   "execution_count": 97,
   "metadata": {},
   "outputs": [
    {
     "data": {
      "application/vnd.jupyter.widget-view+json": {
       "model_id": "f1713e1c1a8846fe8d53b07db0a57bde",
       "version_major": 2,
       "version_minor": 0
      },
      "text/plain": [
       "FigureCanvasNbAgg()"
      ]
     },
     "metadata": {},
     "output_type": "display_data"
    },
    {
     "data": {
      "text/plain": [
       "Text(0.5, 1.0, 'Class Conditioning in C&G in MHingeGAN (tih50k_128px_mhinge_p05_2step)')"
      ]
     },
     "execution_count": 97,
     "metadata": {},
     "output_type": "execute_result"
    }
   ],
   "source": [
    "fig, ax1 = plt.subplots()\n",
    "\n",
    "t_b_, tr_b_ = no_zeros(t_b, tr_b)\n",
    "plt.plot(t_b_,tr_b_)\n",
    "\n",
    "t_b_, te_b_ = no_zeros(t_b, te_b)\n",
    "plt.plot(t_b_,te_b_)\n",
    "\n",
    "t_b_, s_b_ = no_zeros(t_b, s_b)\n",
    "plt.plot(t_b_,s_b_)\n",
    "\n",
    "t_b_, g_b_ = no_zeros(t_b, g_b)\n",
    "plt.plot(t_b_,g_b_)\n",
    "\n",
    "ax1.set_axisbelow(True)\n",
    "ax1.yaxis.grid(color='gray', linestyle='dashed')\n",
    "plt.ylim([0.0,1.1])\n",
    "plt.legend(['Train', 'Test', 'Self', 'Generator'])\n",
    "plt.xlim([0.0,100000])\n",
    "plt.xticks(np.array([0,2,4,6,8,10])*10000, [0,2,4,6,8,10])\n",
    "#plt.xticks(np.array([0,2,4,6,8,10,12,14,16,18,20])*10000, [0,2,4,6,8,10,12,14,16,18,20])\n",
    "plt.xlabel('itrs 1e4')\n",
    "plt.ylabel('Class Accuracy')\n",
    "plt.title('Class Conditioning in C&G in MHingeGAN (tih50k_128px_mhinge_p05_2step)')"
   ]
  },
  {
   "cell_type": "code",
   "execution_count": 63,
   "metadata": {},
   "outputs": [
    {
     "data": {
      "application/vnd.jupyter.widget-view+json": {
       "model_id": "",
       "version_major": 2,
       "version_minor": 0
      },
      "text/plain": [
       "FigureCanvasNbAgg()"
      ]
     },
     "metadata": {},
     "output_type": "display_data"
    },
    {
     "data": {
      "text/plain": [
       "Text(0.5, 1.0, 'Class Conditioning in D&G (tih_mhinge_p05_2step)')"
      ]
     },
     "execution_count": 63,
     "metadata": {},
     "output_type": "execute_result"
    }
   ],
   "source": [
    "fig, ax1 = plt.subplots()\n",
    "\n",
    "t_base_, tr_base_ = no_zeros(t_base, tr_base)\n",
    "plt.plot(t_base_,tr_base_)\n",
    "\n",
    "t_base_, te_base_ = no_zeros(t_base, te_base)\n",
    "plt.plot(t_base_,te_base_)\n",
    "\n",
    "t_base_, s_base_ = no_zeros(t_base, s_base)\n",
    "plt.plot(t_base_,s_base_)\n",
    "\n",
    "t_base_, g_base_ = no_zeros(t_base, g_base)\n",
    "plt.plot(t_base_,g_base_)\n",
    "\n",
    "ax1.set_axisbelow(True)\n",
    "ax1.yaxis.grid(color='gray', linestyle='dashed')\n",
    "plt.ylim([0.0,1.1])\n",
    "plt.legend(['Train', 'Test', 'Self', 'Generator'])\n",
    "plt.xticks(np.array([0,2,4,6,8,10])*10000, [0,2,4,6,8,10])\n",
    "plt.xlabel('itrs 1e4')\n",
    "plt.ylabel('Class Accuracy')\n",
    "\n",
    "plt.title('Class Conditioning in D&G (tih_mhinge_p05_2step)')"
   ]
  },
  {
   "cell_type": "code",
   "execution_count": 557,
   "metadata": {},
   "outputs": [],
   "source": [
    "# CIFAR10 classes\n",
    "outf = \"/scratch0/ilya/locDoc/BigGAN/cifartest\"\n",
    "\n",
    "\n",
    "t_base, classes_base = dir_to_mean_label_series(\"default\")\n",
    "t_1, classes_1 = dir_to_mean_label_series(\"mh_loss_noconcat_gap\")\n",
    "t_2, classes_2 = dir_to_mean_label_series(\"mh_loss_noconcat_gap_phase2_4\")\n",
    "\n",
    "t_b = np.concatenate([t_1[:9], t_2])\n",
    "classes_b = np.concatenate([classes_1[:9], classes_2])\n",
    "\n",
    "\n",
    "t_a, classes_a = dir_to_mean_label_series(\"mhs_p05\")\n",
    "\n"
   ]
  },
  {
   "cell_type": "code",
   "execution_count": 560,
   "metadata": {},
   "outputs": [],
   "source": [
    "# CIFAR100 classes\n",
    "\n",
    "\n",
    "t_base, classes_base = dir_to_mean_label_series(\"cifar100_baseline_redo\", nclass=100)\n",
    "t_b, classes_b = dir_to_mean_label_series(\"cifar100_mh\", nclass=100)\n",
    "t_a, classes_a = dir_to_mean_label_series(\"cifar100_fm_and_cs_p05\", nclass=100)\n",
    "\n"
   ]
  },
  {
   "cell_type": "code",
   "execution_count": 451,
   "metadata": {},
   "outputs": [],
   "source": [
    "# STL 48 classes\n",
    "\n",
    "outf = \"/scratch0/ilya/locDoc/BigGAN/stl\"\n",
    "\n",
    "t_base, classes_base = dir_to_mean_label_series(\"mh_48px_baseline\")\n",
    "t_b, classes_b = dir_to_mean_label_series(\"mh_48px_fmloss\")\n",
    "t_a, classes_a = dir_to_mean_label_series(\"mhs_p05_48px\")\n"
   ]
  },
  {
   "cell_type": "code",
   "execution_count": 561,
   "metadata": {},
   "outputs": [
    {
     "data": {
      "application/vnd.jupyter.widget-view+json": {
       "model_id": "d8e89ec05cf4457bbb34c00c7c49d965",
       "version_major": 2,
       "version_minor": 0
      },
      "text/plain": [
       "FigureCanvasNbAgg()"
      ]
     },
     "metadata": {},
     "output_type": "display_data"
    },
    {
     "data": {
      "text/plain": [
       "<matplotlib.legend.Legend at 0x7f1c8ddc6b00>"
      ]
     },
     "execution_count": 561,
     "metadata": {},
     "output_type": "execute_result"
    }
   ],
   "source": [
    "# std dev plot\n",
    "\n",
    "fig, ax1 = plt.subplots()\n",
    "\n",
    "std_base = classes_base.std(axis=1)\n",
    "t_base_, std_base_ = no_zeros(t_base, std_base)\n",
    "plt.plot(t_base_, std_base_)\n",
    "\n",
    "std_b = classes_b.std(axis=1)\n",
    "t_b_, std_b_ = no_zeros(t_b, std_b)\n",
    "plt.plot(t_b_, std_b_)\n",
    "\n",
    "std_a = classes_a.std(axis=1)\n",
    "t_a_, std_a_ = no_zeros(t_a, std_a)\n",
    "plt.plot(t_a_, std_a_)\n",
    "\n",
    "plt.legend(['Baseline', 'MHingeGAN CSC', 'MHingeGAN'])\n",
    "#plt.title('OLD CIFAR10 Generator Class Prevalence Std Dev')"
   ]
  },
  {
   "cell_type": "code",
   "execution_count": 233,
   "metadata": {},
   "outputs": [
    {
     "data": {
      "application/vnd.jupyter.widget-view+json": {
       "model_id": "b9d7dbbe6226405fb53a78ae364820f0",
       "version_major": 2,
       "version_minor": 0
      },
      "text/plain": [
       "FigureCanvasNbAgg()"
      ]
     },
     "metadata": {},
     "output_type": "display_data"
    },
    {
     "data": {
      "text/plain": [
       "Text(0.5,1,'CIFAR10 Baseline Generator Class Prevalence')"
      ]
     },
     "execution_count": 233,
     "metadata": {},
     "output_type": "execute_result"
    }
   ],
   "source": [
    "# prevalence plot\n",
    "fig, ax1 = plt.subplots()\n",
    "\n",
    "for k in range(10):\n",
    "    prevalence = [class_vec[k] for class_vec in classes_base]\n",
    "    t_base_, prevalence_ = no_zeros(t_base, prevalence)\n",
    "    plt.plot(t_base_, prevalence_)\n",
    "#plt.yticks(np.arange(0.0, 0.05,0.01))\n",
    "#plt.ylim([0.0,0.05])\n",
    "\n",
    "plt.ylim([0.0,0.2])\n",
    "plt.yticks(np.arange(0.0, 0.2,0.01))\n",
    "\n",
    "#plt.legend(['plane', 'car', 'bird', 'cat', 'deer', 'dog', 'frog', 'horse', 'ship', 'truck'])\n",
    "# 'airplane', 'bird', 'car', 'cat', 'deer', 'dog', 'horse', 'monkey', 'ship', 'truck'\n",
    "plt.title('CIFAR10 Baseline Generator Class Prevalence')"
   ]
  },
  {
   "cell_type": "code",
   "execution_count": 479,
   "metadata": {},
   "outputs": [
    {
     "data": {
      "application/vnd.jupyter.widget-view+json": {
       "model_id": "7c9705da472d4826afeeaf022c0501a3",
       "version_major": 2,
       "version_minor": 0
      },
      "text/plain": [
       "FigureCanvasNbAgg()"
      ]
     },
     "metadata": {},
     "output_type": "display_data"
    },
    {
     "data": {
      "text/plain": [
       "Text(0.5,1,'CIFAR10 MHingeGAN Generator Class Prevalence')"
      ]
     },
     "execution_count": 479,
     "metadata": {},
     "output_type": "execute_result"
    }
   ],
   "source": [
    "# prevalence plot\n",
    "fig, ax1 = plt.subplots()\n",
    "\n",
    "for k in range(10):\n",
    "    prevalence = [class_vec[k] for class_vec in classes_b]\n",
    "    t_b_, prevalence_ = no_zeros(t_b, prevalence)\n",
    "    plt.plot(t_b_, prevalence_)\n",
    "# plt.yticks(np.arange(0.0, 0.05,0.01))\n",
    "# plt.ylim([0.0,0.05])\n",
    "\n",
    "plt.ylim([0.0,0.2])\n",
    "plt.yticks(np.arange(0.0, 0.2,0.01))\n",
    "\n",
    "plt.legend(['plane', 'car', 'bird', 'cat', 'deer', 'dog', 'frog', 'horse', 'ship', 'truck'])\n",
    "plt.title('CIFAR10 MHingeGAN Generator Class Prevalence')"
   ]
  },
  {
   "cell_type": "code",
   "execution_count": 721,
   "metadata": {},
   "outputs": [
    {
     "data": {
      "application/vnd.jupyter.widget-view+json": {
       "model_id": "1a6375474e2f4c53a2f6d4e83bece0b8",
       "version_major": 2,
       "version_minor": 0
      },
      "text/plain": [
       "FigureCanvasNbAgg()"
      ]
     },
     "metadata": {},
     "output_type": "display_data"
    }
   ],
   "source": [
    "# Two axis IS and acc plot CIFAR\n",
    "\n",
    "fig, ax1 = plt.subplots()\n",
    "\n",
    "color = 'tab:green'\n",
    "ax1.set_xlabel('Iterations')\n",
    "ax1.set_ylabel('Test Accuracy', color=color)\n",
    "\n",
    "t_base_, acc_base_ = no_zeros(t_base, acc_base)\n",
    "ax1.plot(t_base_, acc_base_, linestyle='dashed', color=color)\n",
    "#ax1.plot(t_1, acc_1, color=color)\n",
    "t_b_, acc_b_ = no_zeros(t_b, acc_b)\n",
    "ax1.plot(t_b_, acc_b_, color=color)\n",
    "ax1.tick_params(axis='y', labelcolor=color)\n",
    "\n",
    "ax2 = ax1.twinx()  # instantiate a second axes that shares the same x-axis\n",
    "\n",
    "color = 'tab:blue'\n",
    "ax2.set_ylabel('Train Acc', color=color)  # we already handled the x-label with ax1\n",
    "t_base_, acctr_base_ = no_zeros(t_base, acctr_base)\n",
    "ax2.plot(t_base_, acctr_base_, linestyle='dashed', color=color)\n",
    "#ax2.plot(t_1, is_1, color=color)\n",
    "t_b_, acctr_b_ = no_zeros(t_b, acctr_b)\n",
    "ax2.plot(t_b_, acctr_b_, color=color)\n",
    "ax2.tick_params(axis='y', labelcolor=color)\n",
    "\n",
    "plt.legend(['Baseline', 'MHinge'])\n",
    "plt.title('CIFAR10 IS and Test Acc')\n",
    "\n",
    "fig.tight_layout()  # otherwise the right y-label is slightly clipped\n",
    "plt.show()"
   ]
  },
  {
   "cell_type": "code",
   "execution_count": 605,
   "metadata": {},
   "outputs": [
    {
     "data": {
      "application/vnd.jupyter.widget-view+json": {
       "model_id": "",
       "version_major": 2,
       "version_minor": 0
      },
      "text/plain": [
       "FigureCanvasNbAgg()"
      ]
     },
     "metadata": {},
     "output_type": "display_data"
    }
   ],
   "source": [
    "# Two axis IS and acc plot STL 32\n",
    "\n",
    "fig, ax1 = plt.subplots()\n",
    "\n",
    "color = 'tab:green'\n",
    "ax1.set_xlabel('Iterations')\n",
    "ax1.set_ylabel('Test Accuracy', color=color)\n",
    "\n",
    "t_fm_, acc_fm_ = no_zeros(t_fm, acc_fm)\n",
    "ax1.plot(t_fm_, acc_fm_, color=color)\n",
    "#ax1.plot(t_1, acc_1, color=color)\n",
    "ax1.plot(t_b, acc_b, linestyle='dashed', color=color)\n",
    "ax1.tick_params(axis='y', labelcolor=color)\n",
    "\n",
    "ax2 = ax1.twinx()  # instantiate a second axes that shares the same x-axis\n",
    "\n",
    "color = 'tab:blue'\n",
    "ax2.set_ylabel('Inception Score', color=color)  # we already handled the x-label with ax1\n",
    "t_fm_, is_fm_ = no_zeros(t_fm, is_fm)\n",
    "ax2.plot(t_fm_, is_fm_, color=color)\n",
    "#ax2.plot(t_1, is_1, color=color)\n",
    "t_b_, is_b_ = no_zeros(t_b, is_b)\n",
    "ax2.plot(t_b_, is_b_, linestyle='dashed', color=color)\n",
    "ax2.tick_params(axis='y', labelcolor=color)\n",
    "\n",
    "plt.legend(['With FM', 'Without FM'])\n",
    "plt.title('STL 32x32, IS and Test Acc with and without FM Loss')\n",
    "\n",
    "fig.tight_layout()  # otherwise the right y-label is slightly clipped\n",
    "plt.show()"
   ]
  },
  {
   "cell_type": "code",
   "execution_count": 640,
   "metadata": {},
   "outputs": [
    {
     "data": {
      "application/vnd.jupyter.widget-view+json": {
       "model_id": "9ccdc2482f124a0fa62a9da17d3594cd",
       "version_major": 2,
       "version_minor": 0
      },
      "text/plain": [
       "FigureCanvasNbAgg()"
      ]
     },
     "metadata": {},
     "output_type": "display_data"
    }
   ],
   "source": [
    "# Two axis IS and acc plot CIFAR\n",
    "\n",
    "fig, ax1 = plt.subplots()\n",
    "\n",
    "color = 'tab:green'\n",
    "ax1.set_xlabel('Iterations')\n",
    "ax1.set_ylabel('Test Accuracy', color=color)\n",
    "\n",
    "t_base_, acc_base_ = no_zeros(t_base, acc_base)\n",
    "ax1.plot(t_base_, acc_base_, linestyle='dashed', color=color)\n",
    "#ax1.plot(t_1, acc_1, color=color)\n",
    "t_b_, acc_b_ = no_zeros(t_b, acc_b)\n",
    "ax1.plot(t_b_, acc_b_, color=color)\n",
    "ax1.tick_params(axis='y', labelcolor=color)\n",
    "\n",
    "ax2 = ax1.twinx()  # instantiate a second axes that shares the same x-axis\n",
    "\n",
    "color = 'tab:blue'\n",
    "ax2.set_ylabel('Inception Score', color=color)  # we already handled the x-label with ax1\n",
    "t_base_, is_base_ = no_zeros(t_base, is_base)\n",
    "ax2.plot(t_base_, is_base_, linestyle='dashed', color=color)\n",
    "#ax2.plot(t_1, is_1, color=color)\n",
    "t_b_, is_b_ = no_zeros(t_b, is_b)\n",
    "ax2.plot(t_b_, is_b_, color=color)\n",
    "ax2.tick_params(axis='y', labelcolor=color)\n",
    "\n",
    "plt.legend(['Baseline', 'MHinge'])\n",
    "plt.title('CIFAR10 IS and Test Acc')\n",
    "\n",
    "fig.tight_layout()  # otherwise the right y-label is slightly clipped\n",
    "plt.show()"
   ]
  }
 ],
 "metadata": {
  "kernelspec": {
   "display_name": "Python 3",
   "language": "python",
   "name": "python3"
  },
  "language_info": {
   "codemirror_mode": {
    "name": "ipython",
    "version": 3
   },
   "file_extension": ".py",
   "mimetype": "text/x-python",
   "name": "python",
   "nbconvert_exporter": "python",
   "pygments_lexer": "ipython3",
   "version": "3.6.9"
  }
 },
 "nbformat": 4,
 "nbformat_minor": 4
}
