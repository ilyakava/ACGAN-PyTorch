{
 "cells": [
  {
   "cell_type": "code",
   "execution_count": 1,
   "metadata": {},
   "outputs": [],
   "source": [
    "import os\n",
    "import numpy as np\n",
    "from collections import defaultdict"
   ]
  },
  {
   "cell_type": "code",
   "execution_count": 2,
   "metadata": {},
   "outputs": [],
   "source": [
    "%matplotlib ipympl\n",
    "\n",
    "import matplotlib.pyplot as plt\n",
    "import matplotlib.image as mpimg\n",
    "import ipympl"
   ]
  },
  {
   "cell_type": "code",
   "execution_count": 3,
   "metadata": {},
   "outputs": [],
   "source": [
    "def load_or_make_hist(d):\n",
    "    if not os.path.isdir(d):\n",
    "        raise Exception('%s is not a valid directory' % d)\n",
    "    f = os.path.join(d, HIST_FNAME)\n",
    "    if os.path.isfile(f):\n",
    "        return np.load(f, allow_pickle=True).item()\n",
    "    else:\n",
    "            return defaultdict(dict)"
   ]
  },
  {
   "cell_type": "code",
   "execution_count": 4,
   "metadata": {},
   "outputs": [],
   "source": [
    "mydirs = \"yogesh_acgan_0p1_beta5 yogesh_marygan_0p1_beta5\""
   ]
  },
  {
   "cell_type": "code",
   "execution_count": 4,
   "metadata": {},
   "outputs": [],
   "source": [
    "mydirs = \"yogesh-marygan-stl yogesh-acgan-stl\""
   ]
  },
  {
   "cell_type": "code",
   "execution_count": 11,
   "metadata": {},
   "outputs": [],
   "source": [
    "mydirs = \"celeba5c_marygan celeba5c_acgan celeba_vanillagan\" # celebaMF_marygan"
   ]
  },
  {
   "cell_type": "code",
   "execution_count": 5,
   "metadata": {},
   "outputs": [
    {
     "ename": "NameError",
     "evalue": "name 'outf' is not defined",
     "output_type": "error",
     "traceback": [
      "\u001b[0;31m---------------------------------------------------------------------------\u001b[0m",
      "\u001b[0;31mNameError\u001b[0m                                 Traceback (most recent call last)",
      "\u001b[0;32m<ipython-input-5-d70be21fb08b>\u001b[0m in \u001b[0;36m<module>\u001b[0;34m\u001b[0m\n\u001b[0;32m----> 1\u001b[0;31m \u001b[0mlen\u001b[0m\u001b[0;34m(\u001b[0m\u001b[0mload_or_make_hist\u001b[0m\u001b[0;34m(\u001b[0m\u001b[0mos\u001b[0m\u001b[0;34m.\u001b[0m\u001b[0mpath\u001b[0m\u001b[0;34m.\u001b[0m\u001b[0mjoin\u001b[0m\u001b[0;34m(\u001b[0m\u001b[0moutf\u001b[0m\u001b[0;34m,\u001b[0m \u001b[0;34m\"yogesh-acgan-stl\"\u001b[0m\u001b[0;34m)\u001b[0m\u001b[0;34m)\u001b[0m\u001b[0;34m)\u001b[0m\u001b[0;34m\u001b[0m\u001b[0;34m\u001b[0m\u001b[0m\n\u001b[0m",
      "\u001b[0;31mNameError\u001b[0m: name 'outf' is not defined"
     ]
    }
   ],
   "source": [
    "len(load_or_make_hist(os.path.join(outf, \"yogesh-acgan-stl\")))"
   ]
  },
  {
   "cell_type": "code",
   "execution_count": 5,
   "metadata": {},
   "outputs": [],
   "source": [
    "HIST_FNAME = 'scoring_hist.npy'\n",
    "outf = \"/scratch0/ilya/locDoc/ACGAN/experiments\"\n",
    "mydirs_ = mydirs.split(' ')\n",
    "full_paths = [os.path.join(outf, d) for d in mydirs_]\n",
    "hists = [load_or_make_hist(d) for d in full_paths]"
   ]
  },
  {
   "cell_type": "code",
   "execution_count": 6,
   "metadata": {},
   "outputs": [
    {
     "data": {
      "application/vnd.jupyter.widget-view+json": {
       "model_id": "57b75cdb822a48f6acb7620c0dad68c2",
       "version_major": 2,
       "version_minor": 0
      },
      "text/plain": [
       "FigureCanvasNbAgg()"
      ]
     },
     "metadata": {},
     "output_type": "display_data"
    },
    {
     "data": {
      "text/plain": [
       "Text(0.5, 1.0, 'IS')"
      ]
     },
     "execution_count": 6,
     "metadata": {},
     "output_type": "execute_result"
    }
   ],
   "source": [
    "plt.figure()\n",
    "for i in range(len(mydirs_)):\n",
    "#     t, IS = list(zip(*[(k, v['IS'][0]) for (k, v) in hists[i].items()]))\n",
    "    \n",
    "    def safe_IS(v):\n",
    "        if 'IS' in v:\n",
    "            return v['IS'][0]\n",
    "        else:\n",
    "            return 0\n",
    "    t, IS = list(zip(*[(k, safe_IS(v)) for (k, v) in hists[i].items()]))\n",
    "        \n",
    "    plt.scatter(t,IS)\n",
    "plt.legend(mydirs_)\n",
    "plt.title('IS')"
   ]
  },
  {
   "cell_type": "code",
   "execution_count": 14,
   "metadata": {},
   "outputs": [
    {
     "data": {
      "application/vnd.jupyter.widget-view+json": {
       "model_id": "59a7241c41764d53a36833aea43e7d2f",
       "version_major": 2,
       "version_minor": 0
      },
      "text/plain": [
       "FigureCanvasNbAgg()"
      ]
     },
     "metadata": {},
     "output_type": "display_data"
    },
    {
     "data": {
      "text/plain": [
       "Text(0.5, 1.0, 'FID')"
      ]
     },
     "execution_count": 14,
     "metadata": {},
     "output_type": "execute_result"
    }
   ],
   "source": [
    "plt.figure()\n",
    "for i in range(len(mydirs_)):\n",
    "    def safe_FID(v):\n",
    "        if 'FID' in v:\n",
    "            return v['FID']\n",
    "        else:\n",
    "            return 0\n",
    "    t, FID = list(zip(*[(k, safe_FID(v)) for (k, v) in hists[i].items()]))\n",
    "    plt.scatter(t,FID)\n",
    "plt.legend(mydirs_)\n",
    "plt.title('FID')"
   ]
  },
  {
   "cell_type": "code",
   "execution_count": 117,
   "metadata": {},
   "outputs": [],
   "source": [
    "plt.close('all')"
   ]
  },
  {
   "cell_type": "code",
   "execution_count": 15,
   "metadata": {},
   "outputs": [
    {
     "name": "stdout",
     "output_type": "stream",
     "text": [
      "79999 79999\n",
      "4.263693035084941 0\n",
      "4.263693035084941 0\n"
     ]
    }
   ],
   "source": [
    "print(t[np.argmin(FID)], t[np.argmax(IS)])\n",
    "print(FID[np.argmin(FID)], IS[np.argmin(FID)])\n",
    "print(FID[np.argmax(IS)], IS[np.argmax(IS)])"
   ]
  },
  {
   "cell_type": "code",
   "execution_count": null,
   "metadata": {},
   "outputs": [],
   "source": []
  }
 ],
 "metadata": {
  "kernelspec": {
   "display_name": "Python 3",
   "language": "python",
   "name": "python3"
  },
  "language_info": {
   "codemirror_mode": {
    "name": "ipython",
    "version": 3
   },
   "file_extension": ".py",
   "mimetype": "text/x-python",
   "name": "python",
   "nbconvert_exporter": "python",
   "pygments_lexer": "ipython3",
   "version": "3.7.2"
  }
 },
 "nbformat": 4,
 "nbformat_minor": 2
}
